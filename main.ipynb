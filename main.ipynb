{
 "cells": [
  {
   "cell_type": "markdown",
   "metadata": {
    "collapsed": true,
    "pycharm": {
     "name": "#%% md\n"
    }
   },
   "source": [
    "# Financial Inclusion in Africa\n",
    "\n",
    "Here we are going to describe and implement a solution to predicting whether an individual feature\n",
    "set is likely to have a back account or not."
   ]
  },
  {
   "cell_type": "markdown",
   "source": [
    "We begin by getting our tools in order, so we will be importing the basic data manipulation utilities,\n",
    "plotting functions and finally, our model of choice."
   ],
   "metadata": {
    "collapsed": false,
    "pycharm": {
     "name": "#%% md\n"
    }
   }
  },
  {
   "cell_type": "markdown",
   "source": [
    "###### For Data Processing"
   ],
   "metadata": {
    "collapsed": false,
    "pycharm": {
     "name": "#%% md\n"
    }
   }
  },
  {
   "cell_type": "code",
   "execution_count": 149,
   "outputs": [],
   "source": [
    "import numpy as np\n",
    "import pandas as pd\n",
    "import imblearn as il"
   ],
   "metadata": {
    "collapsed": false,
    "pycharm": {
     "name": "#%%\n"
    }
   }
  },
  {
   "cell_type": "markdown",
   "source": [
    "###### For Display"
   ],
   "metadata": {
    "collapsed": false
   }
  },
  {
   "cell_type": "code",
   "execution_count": 150,
   "outputs": [],
   "source": [
    "import matplotlib.pyplot as plt\n",
    "from mpl_toolkits.mplot3d import Axes3D"
   ],
   "metadata": {
    "collapsed": false,
    "pycharm": {
     "name": "#%%\n"
    }
   }
  },
  {
   "cell_type": "markdown",
   "source": [
    "###### For Machine Learning"
   ],
   "metadata": {
    "collapsed": false
   }
  },
  {
   "cell_type": "code",
   "execution_count": 151,
   "outputs": [],
   "source": [
    "from sklearn.model_selection import train_test_split\n",
    "from xgboost import XGBClassifier\n",
    "from sklearn.metrics import accuracy_score, f1_score\n",
    "from sklearn.model_selection import cross_val_score\n",
    "from sklearn.model_selection import RepeatedStratifiedKFold\n",
    "from category_encoders import TargetEncoder"
   ],
   "metadata": {
    "collapsed": false,
    "pycharm": {
     "name": "#%%\n"
    }
   }
  },
  {
   "cell_type": "markdown",
   "source": [
    "We will just disable any warnings here."
   ],
   "metadata": {
    "collapsed": false
   }
  },
  {
   "cell_type": "code",
   "execution_count": 152,
   "outputs": [],
   "source": [
    "import warnings\n",
    "warnings.filterwarnings('ignore')"
   ],
   "metadata": {
    "collapsed": false,
    "pycharm": {
     "name": "#%%\n"
    }
   }
  },
  {
   "cell_type": "markdown",
   "source": [
    "### Read Files\n",
    "\n",
    "We then read in our source files with the training and testing data that we will need, we will also\n",
    "read in and show the variable definitions file to get the sentiment behind the data provided."
   ],
   "metadata": {
    "collapsed": false
   }
  },
  {
   "cell_type": "code",
   "execution_count": 153,
   "outputs": [
    {
     "data": {
      "text/plain": "  Variable Definitions                                         Unnamed: 1\n0              country                         Country interviewee is in.\n1                 year                           Year survey was done in.\n2             uniqueid             Unique identifier for each interviewee\n3        location_type                     Type of location: Rural, Urban\n4     cellphone_access  If interviewee has access to a cellphone: Yes, No",
      "text/html": "<div>\n<style scoped>\n    .dataframe tbody tr th:only-of-type {\n        vertical-align: middle;\n    }\n\n    .dataframe tbody tr th {\n        vertical-align: top;\n    }\n\n    .dataframe thead th {\n        text-align: right;\n    }\n</style>\n<table border=\"1\" class=\"dataframe\">\n  <thead>\n    <tr style=\"text-align: right;\">\n      <th></th>\n      <th>Variable Definitions</th>\n      <th>Unnamed: 1</th>\n    </tr>\n  </thead>\n  <tbody>\n    <tr>\n      <th>0</th>\n      <td>country</td>\n      <td>Country interviewee is in.</td>\n    </tr>\n    <tr>\n      <th>1</th>\n      <td>year</td>\n      <td>Year survey was done in.</td>\n    </tr>\n    <tr>\n      <th>2</th>\n      <td>uniqueid</td>\n      <td>Unique identifier for each interviewee</td>\n    </tr>\n    <tr>\n      <th>3</th>\n      <td>location_type</td>\n      <td>Type of location: Rural, Urban</td>\n    </tr>\n    <tr>\n      <th>4</th>\n      <td>cellphone_access</td>\n      <td>If interviewee has access to a cellphone: Yes, No</td>\n    </tr>\n  </tbody>\n</table>\n</div>"
     },
     "execution_count": 153,
     "metadata": {},
     "output_type": "execute_result"
    }
   ],
   "source": [
    "# load files into a pandas dataframe\n",
    "train = pd.read_csv('assets/train.csv')\n",
    "test = pd.read_csv('assets/test.csv')\n",
    "\n",
    "# we get the variable definitions\n",
    "definitions = pd.read_csv('assets/definitions.csv')\n",
    "definitions.head()"
   ],
   "metadata": {
    "collapsed": false,
    "pycharm": {
     "name": "#%%\n"
    }
   }
  },
  {
   "cell_type": "markdown",
   "source": [
    "##### A preview of the training data"
   ],
   "metadata": {
    "collapsed": false
   }
  },
  {
   "cell_type": "code",
   "execution_count": 154,
   "outputs": [
    {
     "data": {
      "text/plain": "  country  year    uniqueid bank_account location_type cellphone_access  \\\n0   Kenya  2018  uniqueid_1          Yes         Rural              Yes   \n1   Kenya  2018  uniqueid_2           No         Rural               No   \n2   Kenya  2018  uniqueid_3          Yes         Urban              Yes   \n3   Kenya  2018  uniqueid_4           No         Rural              Yes   \n4   Kenya  2018  uniqueid_5           No         Urban               No   \n\n   household_size  age_of_respondent gender_of_respondent  \\\n0               3                 24               Female   \n1               5                 70               Female   \n2               5                 26                 Male   \n3               5                 34               Female   \n4               8                 26                 Male   \n\n  relationship_with_head           marital_status  \\\n0                 Spouse  Married/Living together   \n1      Head of Household                  Widowed   \n2         Other relative     Single/Never Married   \n3      Head of Household  Married/Living together   \n4                  Child     Single/Never Married   \n\n                   education_level                   job_type  \n0              Secondary education              Self employed  \n1              No formal education       Government Dependent  \n2  Vocational/Specialised training              Self employed  \n3                Primary education  Formally employed Private  \n4                Primary education        Informally employed  ",
      "text/html": "<div>\n<style scoped>\n    .dataframe tbody tr th:only-of-type {\n        vertical-align: middle;\n    }\n\n    .dataframe tbody tr th {\n        vertical-align: top;\n    }\n\n    .dataframe thead th {\n        text-align: right;\n    }\n</style>\n<table border=\"1\" class=\"dataframe\">\n  <thead>\n    <tr style=\"text-align: right;\">\n      <th></th>\n      <th>country</th>\n      <th>year</th>\n      <th>uniqueid</th>\n      <th>bank_account</th>\n      <th>location_type</th>\n      <th>cellphone_access</th>\n      <th>household_size</th>\n      <th>age_of_respondent</th>\n      <th>gender_of_respondent</th>\n      <th>relationship_with_head</th>\n      <th>marital_status</th>\n      <th>education_level</th>\n      <th>job_type</th>\n    </tr>\n  </thead>\n  <tbody>\n    <tr>\n      <th>0</th>\n      <td>Kenya</td>\n      <td>2018</td>\n      <td>uniqueid_1</td>\n      <td>Yes</td>\n      <td>Rural</td>\n      <td>Yes</td>\n      <td>3</td>\n      <td>24</td>\n      <td>Female</td>\n      <td>Spouse</td>\n      <td>Married/Living together</td>\n      <td>Secondary education</td>\n      <td>Self employed</td>\n    </tr>\n    <tr>\n      <th>1</th>\n      <td>Kenya</td>\n      <td>2018</td>\n      <td>uniqueid_2</td>\n      <td>No</td>\n      <td>Rural</td>\n      <td>No</td>\n      <td>5</td>\n      <td>70</td>\n      <td>Female</td>\n      <td>Head of Household</td>\n      <td>Widowed</td>\n      <td>No formal education</td>\n      <td>Government Dependent</td>\n    </tr>\n    <tr>\n      <th>2</th>\n      <td>Kenya</td>\n      <td>2018</td>\n      <td>uniqueid_3</td>\n      <td>Yes</td>\n      <td>Urban</td>\n      <td>Yes</td>\n      <td>5</td>\n      <td>26</td>\n      <td>Male</td>\n      <td>Other relative</td>\n      <td>Single/Never Married</td>\n      <td>Vocational/Specialised training</td>\n      <td>Self employed</td>\n    </tr>\n    <tr>\n      <th>3</th>\n      <td>Kenya</td>\n      <td>2018</td>\n      <td>uniqueid_4</td>\n      <td>No</td>\n      <td>Rural</td>\n      <td>Yes</td>\n      <td>5</td>\n      <td>34</td>\n      <td>Female</td>\n      <td>Head of Household</td>\n      <td>Married/Living together</td>\n      <td>Primary education</td>\n      <td>Formally employed Private</td>\n    </tr>\n    <tr>\n      <th>4</th>\n      <td>Kenya</td>\n      <td>2018</td>\n      <td>uniqueid_5</td>\n      <td>No</td>\n      <td>Urban</td>\n      <td>No</td>\n      <td>8</td>\n      <td>26</td>\n      <td>Male</td>\n      <td>Child</td>\n      <td>Single/Never Married</td>\n      <td>Primary education</td>\n      <td>Informally employed</td>\n    </tr>\n  </tbody>\n</table>\n</div>"
     },
     "execution_count": 154,
     "metadata": {},
     "output_type": "execute_result"
    }
   ],
   "source": [
    "train.head()"
   ],
   "metadata": {
    "collapsed": false,
    "pycharm": {
     "name": "#%%\n"
    }
   }
  },
  {
   "cell_type": "markdown",
   "source": [
    "## Combine train and test set for easy preprocessing"
   ],
   "metadata": {
    "collapsed": false
   }
  },
  {
   "cell_type": "code",
   "execution_count": 155,
   "outputs": [],
   "source": [
    "# mapping the bank account with 0 to NO and 1 to YES\n",
    "train['bank_account'] = train['bank_account'].map({'No':0, 'Yes':1})\n",
    "# Combine train and test set\n",
    "ntrain = train.shape[0]\n",
    "\n",
    "all_data = pd.concat((train, test)).reset_index(drop=True)"
   ],
   "metadata": {
    "collapsed": false,
    "pycharm": {
     "name": "#%%\n"
    }
   }
  },
  {
   "cell_type": "markdown",
   "source": [
    "### Feature Engineering\n",
    "\n",
    "Here we select the variables that are useful as described in the definitions file. So we will probably\n",
    "not need to ``uniqueid`` or ``bank_account`` since first does not relate to the sentiment and the latter\n",
    "is what we are trying to predict accurately.\n",
    "\n",
    "We have chosen target encoding because it keeps the parameters of our data the same and does not expand\n",
    "the data set."
   ],
   "metadata": {
    "collapsed": false,
    "pycharm": {
     "name": "#%% md\n"
    }
   }
  },
  {
   "cell_type": "code",
   "execution_count": 156,
   "outputs": [
    {
     "data": {
      "text/plain": "    country      year    uniqueid  bank_account  location_type  \\\n0  0.250659  0.208349  uniqueid_1           1.0       0.116503   \n1  0.250659  0.208349  uniqueid_2           0.0       0.116503   \n2  0.250659  0.208349  uniqueid_3           1.0       0.178739   \n3  0.250659  0.208349  uniqueid_4           0.0       0.116503   \n4  0.250659  0.208349  uniqueid_5           0.0       0.178739   \n\n   cellphone_access  household_size  age_of_respondent  gender_of_respondent  \\\n0          0.183797        0.142602           0.144128              0.106795   \n1          0.017133        0.149667           0.112727              0.106795   \n2          0.183797        0.149667           0.183740              0.189696   \n3          0.183797        0.149667           0.164751              0.106795   \n4          0.017133        0.114514           0.183740              0.189696   \n\n   relationship_with_head  marital_status  education_level  job_type origin  \n0                0.106595        0.173598         0.232773  0.131738  Kenya  \n1                0.177149        0.090103         0.038981  0.202429  Kenya  \n2                0.098802        0.121007         0.570361  0.131738  Kenya  \n3                0.177149        0.173598         0.085451  0.541232  Kenya  \n4                0.086586        0.121007         0.085451  0.079507  Kenya  ",
      "text/html": "<div>\n<style scoped>\n    .dataframe tbody tr th:only-of-type {\n        vertical-align: middle;\n    }\n\n    .dataframe tbody tr th {\n        vertical-align: top;\n    }\n\n    .dataframe thead th {\n        text-align: right;\n    }\n</style>\n<table border=\"1\" class=\"dataframe\">\n  <thead>\n    <tr style=\"text-align: right;\">\n      <th></th>\n      <th>country</th>\n      <th>year</th>\n      <th>uniqueid</th>\n      <th>bank_account</th>\n      <th>location_type</th>\n      <th>cellphone_access</th>\n      <th>household_size</th>\n      <th>age_of_respondent</th>\n      <th>gender_of_respondent</th>\n      <th>relationship_with_head</th>\n      <th>marital_status</th>\n      <th>education_level</th>\n      <th>job_type</th>\n      <th>origin</th>\n    </tr>\n  </thead>\n  <tbody>\n    <tr>\n      <th>0</th>\n      <td>0.250659</td>\n      <td>0.208349</td>\n      <td>uniqueid_1</td>\n      <td>1.0</td>\n      <td>0.116503</td>\n      <td>0.183797</td>\n      <td>0.142602</td>\n      <td>0.144128</td>\n      <td>0.106795</td>\n      <td>0.106595</td>\n      <td>0.173598</td>\n      <td>0.232773</td>\n      <td>0.131738</td>\n      <td>Kenya</td>\n    </tr>\n    <tr>\n      <th>1</th>\n      <td>0.250659</td>\n      <td>0.208349</td>\n      <td>uniqueid_2</td>\n      <td>0.0</td>\n      <td>0.116503</td>\n      <td>0.017133</td>\n      <td>0.149667</td>\n      <td>0.112727</td>\n      <td>0.106795</td>\n      <td>0.177149</td>\n      <td>0.090103</td>\n      <td>0.038981</td>\n      <td>0.202429</td>\n      <td>Kenya</td>\n    </tr>\n    <tr>\n      <th>2</th>\n      <td>0.250659</td>\n      <td>0.208349</td>\n      <td>uniqueid_3</td>\n      <td>1.0</td>\n      <td>0.178739</td>\n      <td>0.183797</td>\n      <td>0.149667</td>\n      <td>0.183740</td>\n      <td>0.189696</td>\n      <td>0.098802</td>\n      <td>0.121007</td>\n      <td>0.570361</td>\n      <td>0.131738</td>\n      <td>Kenya</td>\n    </tr>\n    <tr>\n      <th>3</th>\n      <td>0.250659</td>\n      <td>0.208349</td>\n      <td>uniqueid_4</td>\n      <td>0.0</td>\n      <td>0.116503</td>\n      <td>0.183797</td>\n      <td>0.149667</td>\n      <td>0.164751</td>\n      <td>0.106795</td>\n      <td>0.177149</td>\n      <td>0.173598</td>\n      <td>0.085451</td>\n      <td>0.541232</td>\n      <td>Kenya</td>\n    </tr>\n    <tr>\n      <th>4</th>\n      <td>0.250659</td>\n      <td>0.208349</td>\n      <td>uniqueid_5</td>\n      <td>0.0</td>\n      <td>0.178739</td>\n      <td>0.017133</td>\n      <td>0.114514</td>\n      <td>0.183740</td>\n      <td>0.189696</td>\n      <td>0.086586</td>\n      <td>0.121007</td>\n      <td>0.085451</td>\n      <td>0.079507</td>\n      <td>Kenya</td>\n    </tr>\n  </tbody>\n</table>\n</div>"
     },
     "execution_count": 156,
     "metadata": {},
     "output_type": "execute_result"
    }
   ],
   "source": [
    "# Select main columns to be used in training\n",
    "main_cols = all_data.columns.difference(['uniqueid', 'bank_account'])\n",
    "encoder = TargetEncoder(cols=main_cols)\n",
    "\n",
    "temp = encoder.fit_transform(all_data, all_data['bank_account'])\n",
    "temp['bank_account'] = all_data['bank_account']\n",
    "temp['origin'] = all_data['country']\n",
    "all_data = temp\n",
    "\n",
    "all_data.head()"
   ],
   "metadata": {
    "collapsed": false,
    "pycharm": {
     "name": "#%%\n"
    }
   }
  },
  {
   "cell_type": "markdown",
   "source": [
    "We plot a 3D scatter chart to get an idea of the clusters that form up on the different variables. The\n",
    "visual helps us make a few decisions on what to do next with our data. So here we will show the\n",
    "``age_of_respondent``, ``education_level``, and the ``household_size``."
   ],
   "metadata": {
    "collapsed": false,
    "pycharm": {
     "name": "#%% md\n"
    }
   }
  },
  {
   "cell_type": "code",
   "execution_count": 157,
   "outputs": [
    {
     "data": {
      "text/plain": "<Figure size 432x288 with 1 Axes>",
      "image/png": "[encoded data removed]"
     },
     "metadata": {
      "needs_background": "light"
     },
     "output_type": "display_data"
    }
   ],
   "source": [
    "# we should then show a scatter plot of the distribution of the data to get a view of any clusters\n",
    "colors = { 1: 'red', 0: 'blue' }\n",
    "accounts = all_data['bank_account'].to_numpy()\n",
    "accounts = accounts[np.logical_not(np.isnan(accounts))]\n",
    "\n",
    "fig = plt.figure()\n",
    "ax = Axes3D(fig)\n",
    "for value in np.unique(accounts):\n",
    "    x = np.where(accounts == value)\n",
    "    ax.scatter(all_data.iloc[x]['country'], all_data.iloc[x]['education_level'], all_data.iloc[x]['household_size'], c=colors[value], label=value)\n",
    "plt.legend()\n",
    "plt.show()"
   ],
   "metadata": {
    "collapsed": false,
    "pycharm": {
     "name": "#%%\n"
    }
   }
  },
  {
   "cell_type": "markdown",
   "source": [
    "We can clearly see three points on the scatter plot above.\n",
    "- The data we have is not balanced in that there are more samples on individuals who do not have\n",
    "bank accounts.\n",
    "- To the individuals that have accounts, there are clusters that form over certain parameters\n",
    "- The higher density areas of the plot mostly consists of people without bank accounts.\n",
    "\n",
    "With these notes, we then begin splitting our data set so that we can work our training data."
   ],
   "metadata": {
    "collapsed": false,
    "pycharm": {
     "name": "#%% md\n"
    }
   }
  },
  {
   "cell_type": "code",
   "execution_count": 158,
   "outputs": [],
   "source": [
    "# Separate train and test data from the combined dataframe\n",
    "train_df = all_data[:ntrain]\n",
    "test_df = all_data[ntrain:]"
   ],
   "metadata": {
    "collapsed": false,
    "pycharm": {
     "name": "#%%\n"
    }
   }
  },
  {
   "cell_type": "markdown",
   "source": [
    "### Data balancing and Resampling\n",
    "\n",
    "Since we saw that our data was not balanced we will need to select a balancing method. That said, we\n",
    "noted that our data has a minority set and also that both the minority and majority data tends to\n",
    "cluster. From this, we have chosen to use *Synthetic Minority Oversampling Technique (SMOTE)* with a\n",
    "*K-Nearest Neighbors (KNN)* clustering mechanic where *``k``* is set optimally at *``20``*. From this\n",
    "resampled set we can then make our training data and testing data."
   ],
   "metadata": {
    "collapsed": false,
    "pycharm": {
     "name": "#%% md\n"
    }
   }
  },
  {
   "cell_type": "code",
   "execution_count": 159,
   "outputs": [
    {
     "data": {
      "text/plain": "       age_of_respondent  cellphone_access   country  education_level  \\\n21603           0.130435          0.183797  0.086149         0.085451   \n27682           0.151816          0.183797  0.114825         0.085451   \n17887           0.154206          0.017133  0.091692         0.085451   \n36323           0.215767          0.183797  0.091692         0.510804   \n27514           0.226797          0.183797  0.250659         0.527320   \n\n       gender_of_respondent  household_size  job_type  location_type  \\\n21603              0.189696        0.144214  0.181481       0.116503   \n27682              0.106795        0.139536  0.094974       0.178739   \n17887              0.106795        0.142602  0.131738       0.116503   \n36323              0.189696        0.137044  0.541232       0.161466   \n27514              0.189696        0.149667  0.541232       0.178739   \n\n       marital_status  relationship_with_head      year  \n21603        0.173598                0.177149  0.208349  \n27682        0.173598                0.106595  0.114825  \n17887        0.121007                0.177149  0.091692  \n36323        0.121007                0.177149  0.091692  \n27514        0.173598                0.177149  0.208349  ",
      "text/html": "<div>\n<style scoped>\n    .dataframe tbody tr th:only-of-type {\n        vertical-align: middle;\n    }\n\n    .dataframe tbody tr th {\n        vertical-align: top;\n    }\n\n    .dataframe thead th {\n        text-align: right;\n    }\n</style>\n<table border=\"1\" class=\"dataframe\">\n  <thead>\n    <tr style=\"text-align: right;\">\n      <th></th>\n      <th>age_of_respondent</th>\n      <th>cellphone_access</th>\n      <th>country</th>\n      <th>education_level</th>\n      <th>gender_of_respondent</th>\n      <th>household_size</th>\n      <th>job_type</th>\n      <th>location_type</th>\n      <th>marital_status</th>\n      <th>relationship_with_head</th>\n      <th>year</th>\n    </tr>\n  </thead>\n  <tbody>\n    <tr>\n      <th>21603</th>\n      <td>0.130435</td>\n      <td>0.183797</td>\n      <td>0.086149</td>\n      <td>0.085451</td>\n      <td>0.189696</td>\n      <td>0.144214</td>\n      <td>0.181481</td>\n      <td>0.116503</td>\n      <td>0.173598</td>\n      <td>0.177149</td>\n      <td>0.208349</td>\n    </tr>\n    <tr>\n      <th>27682</th>\n      <td>0.151816</td>\n      <td>0.183797</td>\n      <td>0.114825</td>\n      <td>0.085451</td>\n      <td>0.106795</td>\n      <td>0.139536</td>\n      <td>0.094974</td>\n      <td>0.178739</td>\n      <td>0.173598</td>\n      <td>0.106595</td>\n      <td>0.114825</td>\n    </tr>\n    <tr>\n      <th>17887</th>\n      <td>0.154206</td>\n      <td>0.017133</td>\n      <td>0.091692</td>\n      <td>0.085451</td>\n      <td>0.106795</td>\n      <td>0.142602</td>\n      <td>0.131738</td>\n      <td>0.116503</td>\n      <td>0.121007</td>\n      <td>0.177149</td>\n      <td>0.091692</td>\n    </tr>\n    <tr>\n      <th>36323</th>\n      <td>0.215767</td>\n      <td>0.183797</td>\n      <td>0.091692</td>\n      <td>0.510804</td>\n      <td>0.189696</td>\n      <td>0.137044</td>\n      <td>0.541232</td>\n      <td>0.161466</td>\n      <td>0.121007</td>\n      <td>0.177149</td>\n      <td>0.091692</td>\n    </tr>\n    <tr>\n      <th>27514</th>\n      <td>0.226797</td>\n      <td>0.183797</td>\n      <td>0.250659</td>\n      <td>0.527320</td>\n      <td>0.189696</td>\n      <td>0.149667</td>\n      <td>0.541232</td>\n      <td>0.178739</td>\n      <td>0.173598</td>\n      <td>0.177149</td>\n      <td>0.208349</td>\n    </tr>\n  </tbody>\n</table>\n</div>"
     },
     "execution_count": 159,
     "metadata": {},
     "output_type": "execute_result"
    }
   ],
   "source": [
    "oversample = il.over_sampling.SMOTE(k_neighbors=20)\n",
    "\n",
    "x, y = train_df[main_cols], train_df['bank_account']\n",
    "x, y = oversample.fit_resample(x, y)\n",
    "# lets take a look now\n",
    "\n",
    "# Split data into train and test sets\n",
    "x_train, x_test, y_train, y_test = train_test_split(x, y, test_size=0.26, random_state=42)\n",
    "x_train.head()"
   ],
   "metadata": {
    "collapsed": false,
    "pycharm": {
     "name": "#%%\n"
    }
   }
  },
  {
   "cell_type": "markdown",
   "source": [
    "### Modelling & Hyperparameter Optimization\n",
    "\n",
    "We now start modelling and training. Our model of choice as specified in the imports is the XGBoost\n",
    "model. We choose this model because of its proficiency in accuracy.\n",
    "\n",
    "We also define an optimization function, we will only have run it once because of the time it takes.\n",
    "We optimize using a random search algorithm that takes a hyperparameter space it will try to\n",
    "optimize."
   ],
   "metadata": {
    "collapsed": false,
    "pycharm": {
     "name": "#%% md\n"
    }
   }
  },
  {
   "cell_type": "code",
   "execution_count": 160,
   "outputs": [],
   "source": [
    "def modeller(params):\n",
    "    model = XGBClassifier(learning_rate = params[0],\n",
    "                            n_estimators = params[1],\n",
    "                            max_depth = params[2],\n",
    "                            min_child_weight = params[3],\n",
    "                            gamma = params[4],\n",
    "                            subsample = params[5],\n",
    "                            colsample_bytree = params[6],\n",
    "                            seed = 42,\n",
    "                            verbosity=0)\n",
    "    auc = cross_val_score(model, x_train, y_train, cv = 10, scoring = 'roc_auc')\n",
    "    print(auc.mean())\n",
    "    return -auc.mean()\n",
    "\n",
    "# then we define a tuning space for our random forest algo to optimize in\n",
    "space = [(1e-3, 1e-1, 'log-uniform'), # learning rate\n",
    "          (100, 2400), # n_estimators\n",
    "          (1, 64), # max_depth\n",
    "          (1, 6.), # min_child_weight\n",
    "          (0, 0.5), # gamma\n",
    "          (0.1, 1.), # subsample\n",
    "          (0.1, 1.)] # colsample_bytree\n",
    "# then we optimize\n",
    "result = [0.014, 2400, 80, 6., 0.01297998739050575, 0.6336707906620142, 0.1859693229517501]\n",
    "# result = forest_minimize(modeller, space, random_state = 42, n_random_starts = 20, n_calls  = 20, verbose = 1).x\n",
    "# print(result)"
   ],
   "metadata": {
    "collapsed": false,
    "pycharm": {
     "name": "#%%\n"
    }
   }
  },
  {
   "cell_type": "markdown",
   "source": [
    "### Training & Predictions\n",
    "\n",
    "With the hyper-parameters optimized above we can then instantiate our model and train it. We will\n",
    "then print the accuracy we get out."
   ],
   "metadata": {
    "collapsed": false
   }
  },
  {
   "cell_type": "code",
   "execution_count": 161,
   "outputs": [
    {
     "name": "stdout",
     "output_type": "stream",
     "text": [
      "XGBoost model accuracy score: 92.99%\n",
      "XGBoost model F1 score: 92.75%\n"
     ]
    }
   ],
   "source": [
    "model = XGBClassifier(learning_rate = result[0],\n",
    "                        n_estimators = result[1],\n",
    "                        max_depth = result[2],\n",
    "                        min_child_weight = result[3],\n",
    "                        gamma = result[4],\n",
    "                        subsample = result[5],\n",
    "                        colsample_bytree = result[6],\n",
    "                        eval_metric='logloss',\n",
    "                        seed = 42)\n",
    "\n",
    "eval_s = [(x, y), (x_test, y_test)]\n",
    "model.fit(x_train, y_train, eval_set=eval_s, verbose=0)\n",
    "\n",
    "y_pred = model.predict(x_test)\n",
    "\n",
    "print(f'XGBoost model accuracy score: {round(accuracy_score(y_pred, y_test) * 100, 2)}%')\n",
    "print(f'XGBoost model F1 score: {round(f1_score(y_pred, y_test) * 100, 2)}%')\n",
    "# Make prediction on the test set\n",
    "\n",
    "test_df['bank_account'] = model.predict(test_df[main_cols])\n",
    "test_df['bank_account'] = test_df['bank_account'].astype(int)"
   ],
   "metadata": {
    "collapsed": false,
    "pycharm": {
     "name": "#%%\n"
    }
   }
  },
  {
   "cell_type": "markdown",
   "source": [
    "### Monitoring Learning Rate\n",
    "\n",
    "Before anything we will display some of the metrics needed to further tune and monitor the model\n",
    "we have iteratively."
   ],
   "metadata": {
    "collapsed": false
   }
  },
  {
   "cell_type": "code",
   "execution_count": 162,
   "outputs": [
    {
     "data": {
      "text/plain": "<Figure size 432x288 with 1 Axes>",
      "image/png": "[encoded data removed]"
     },
     "metadata": {
      "needs_background": "light"
     },
     "output_type": "display_data"
    }
   ],
   "source": [
    "results = model.evals_result()\n",
    "# files.download('Baseline.csv')\n",
    "plt.plot(results['validation_0']['logloss'], label='train')\n",
    "plt.plot(results['validation_1']['logloss'], label='test')\n",
    "# show the legend\n",
    "plt.legend()\n",
    "# show the plot\n",
    "plt.show()"
   ],
   "metadata": {
    "collapsed": false,
    "pycharm": {
     "name": "#%%\n"
    }
   }
  },
  {
   "cell_type": "markdown",
   "source": [
    "### Create Submission File\n",
    "\n",
    "We create our submission file as per the submission template provided."
   ],
   "metadata": {
    "collapsed": false,
    "pycharm": {
     "name": "#%% md\n"
    }
   }
  },
  {
   "cell_type": "code",
   "execution_count": 163,
   "outputs": [],
   "source": [
    "# Create a submission file\n",
    "sub_file = test_df.copy()\n",
    "\n",
    "sub_file['unique_id'] = sub_file.apply(lambda k: f'{k[\"uniqueid\"]} x {k[\"origin\"]}', axis=1)\n",
    "sub_file = sub_file.filter(['unique_id', 'bank_account'], axis=1)\n",
    "# Check the distribution of your predictions\n",
    "# sns.countplot(sub_file.predictions);\n",
    "\n",
    "# Create a csv file and upload to zindi\n",
    "sub_file.to_csv('baseline.csv', index = False)\n",
    "# files.download('baseline.csv')\n"
   ],
   "metadata": {
    "collapsed": false,
    "pycharm": {
     "name": "#%%\n"
    }
   }
  },
  {
   "cell_type": "markdown",
   "source": [
    "### Reccomendations"
   ],
   "metadata": {
    "collapsed": false,
    "pycharm": {
     "name": "#%% md\n"
    }
   }
  }
 ],
 "metadata": {
  "kernelspec": {
   "display_name": "Python 3",
   "language": "python",
   "name": "python3"
  },
  "language_info": {
   "codemirror_mode": {
    "name": "ipython",
    "version": 2
   },
   "file_extension": ".py",
   "mimetype": "text/x-python",
   "name": "python",
   "nbconvert_exporter": "python",
   "pygments_lexer": "ipython2",
   "version": "2.7.6"
  }
 },
 "nbformat": 4,
 "nbformat_minor": 0
}