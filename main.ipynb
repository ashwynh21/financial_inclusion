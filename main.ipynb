{
 "cells": [
  {
   "cell_type": "markdown",
   "metadata": {
    "collapsed": true,
    "pycharm": {
     "name": "#%% md\n"
    }
   },
   "source": [
    "# Financial Inclusion in Africa\n",
    "\n",
    "Here we are going to describe and implement a solution to predicting whether an individual feature\n",
    "set is likely to have a bank account or not.\n",
    "\n",
    "In this solution we are going to be going through the following steps in creating our prediction model;\n",
    "\n",
    "* Reading in the training and test set.\n",
    "* Encoding the data into a set that is best suited for our model (we will be using one hot encoding).\n",
    "* We will then fit the training and testing data into our model choice which is XGBoost (Extreme Gradient Boosting).\n",
    "* We will then display the model accuracy and run the final test on the non labelled test set.\n",
    "* Finally we will plot the learning rate so we are able to make the final optimization (hyperparameter tuning)."
   ]
  },
  {
   "cell_type": "code",
   "execution_count": 1,
   "outputs": [],
   "source": [
    "# for data processing\n",
    "import pandas as pd\n",
    "import seaborn as sns\n",
    "\n",
    "# for display\n",
    "import matplotlib.pyplot as plt\n",
    "from sklearn.metrics import accuracy_score\n",
    "from sklearn.model_selection import cross_val_score\n",
    "\n",
    "# for machine learning\n",
    "from sklearn.model_selection import train_test_split\n",
    "from xgboost import XGBClassifier\n",
    "from skopt import forest_minimize\n",
    "\n",
    "# for io\n",
    "import warnings\n",
    "\n",
    "warnings.filterwarnings('ignore')"
   ],
   "metadata": {
    "collapsed": false,
    "pycharm": {
     "name": "#%%\n"
    }
   }
  },
  {
   "cell_type": "markdown",
   "source": [
    "## Read files"
   ],
   "metadata": {
    "collapsed": false
   }
  },
  {
   "cell_type": "code",
   "execution_count": 2,
   "outputs": [],
   "source": [
    "# load files into a pandas dataframe\n",
    "\n",
    "train = pd.read_csv('assets/Train.csv')\n",
    "test = pd.read_csv('assets/Test.csv')"
   ],
   "metadata": {
    "collapsed": false,
    "pycharm": {
     "name": "#%%\n"
    }
   }
  },
  {
   "cell_type": "markdown",
   "source": [
    "##### A Preview of the training data"
   ],
   "metadata": {
    "collapsed": false
   }
  },
  {
   "cell_type": "code",
   "execution_count": 3,
   "outputs": [
    {
     "data": {
      "text/plain": "  country  year    uniqueid bank_account location_type cellphone_access  \\\n0   Kenya  2018  uniqueid_1          Yes         Rural              Yes   \n1   Kenya  2018  uniqueid_2           No         Rural               No   \n2   Kenya  2018  uniqueid_3          Yes         Urban              Yes   \n3   Kenya  2018  uniqueid_4           No         Rural              Yes   \n4   Kenya  2018  uniqueid_5           No         Urban               No   \n\n   household_size  age_of_respondent gender_of_respondent  \\\n0               3                 24               Female   \n1               5                 70               Female   \n2               5                 26                 Male   \n3               5                 34               Female   \n4               8                 26                 Male   \n\n  relationship_with_head           marital_status  \\\n0                 Spouse  Married/Living together   \n1      Head of Household                  Widowed   \n2         Other relative     Single/Never Married   \n3      Head of Household  Married/Living together   \n4                  Child     Single/Never Married   \n\n                   education_level                   job_type  \n0              Secondary education              Self employed  \n1              No formal education       Government Dependent  \n2  Vocational/Specialised training              Self employed  \n3                Primary education  Formally employed Private  \n4                Primary education        Informally employed  ",
      "text/html": "<div>\n<style scoped>\n    .dataframe tbody tr th:only-of-type {\n        vertical-align: middle;\n    }\n\n    .dataframe tbody tr th {\n        vertical-align: top;\n    }\n\n    .dataframe thead th {\n        text-align: right;\n    }\n</style>\n<table border=\"1\" class=\"dataframe\">\n  <thead>\n    <tr style=\"text-align: right;\">\n      <th></th>\n      <th>country</th>\n      <th>year</th>\n      <th>uniqueid</th>\n      <th>bank_account</th>\n      <th>location_type</th>\n      <th>cellphone_access</th>\n      <th>household_size</th>\n      <th>age_of_respondent</th>\n      <th>gender_of_respondent</th>\n      <th>relationship_with_head</th>\n      <th>marital_status</th>\n      <th>education_level</th>\n      <th>job_type</th>\n    </tr>\n  </thead>\n  <tbody>\n    <tr>\n      <th>0</th>\n      <td>Kenya</td>\n      <td>2018</td>\n      <td>uniqueid_1</td>\n      <td>Yes</td>\n      <td>Rural</td>\n      <td>Yes</td>\n      <td>3</td>\n      <td>24</td>\n      <td>Female</td>\n      <td>Spouse</td>\n      <td>Married/Living together</td>\n      <td>Secondary education</td>\n      <td>Self employed</td>\n    </tr>\n    <tr>\n      <th>1</th>\n      <td>Kenya</td>\n      <td>2018</td>\n      <td>uniqueid_2</td>\n      <td>No</td>\n      <td>Rural</td>\n      <td>No</td>\n      <td>5</td>\n      <td>70</td>\n      <td>Female</td>\n      <td>Head of Household</td>\n      <td>Widowed</td>\n      <td>No formal education</td>\n      <td>Government Dependent</td>\n    </tr>\n    <tr>\n      <th>2</th>\n      <td>Kenya</td>\n      <td>2018</td>\n      <td>uniqueid_3</td>\n      <td>Yes</td>\n      <td>Urban</td>\n      <td>Yes</td>\n      <td>5</td>\n      <td>26</td>\n      <td>Male</td>\n      <td>Other relative</td>\n      <td>Single/Never Married</td>\n      <td>Vocational/Specialised training</td>\n      <td>Self employed</td>\n    </tr>\n    <tr>\n      <th>3</th>\n      <td>Kenya</td>\n      <td>2018</td>\n      <td>uniqueid_4</td>\n      <td>No</td>\n      <td>Rural</td>\n      <td>Yes</td>\n      <td>5</td>\n      <td>34</td>\n      <td>Female</td>\n      <td>Head of Household</td>\n      <td>Married/Living together</td>\n      <td>Primary education</td>\n      <td>Formally employed Private</td>\n    </tr>\n    <tr>\n      <th>4</th>\n      <td>Kenya</td>\n      <td>2018</td>\n      <td>uniqueid_5</td>\n      <td>No</td>\n      <td>Urban</td>\n      <td>No</td>\n      <td>8</td>\n      <td>26</td>\n      <td>Male</td>\n      <td>Child</td>\n      <td>Single/Never Married</td>\n      <td>Primary education</td>\n      <td>Informally employed</td>\n    </tr>\n  </tbody>\n</table>\n</div>"
     },
     "execution_count": 3,
     "metadata": {},
     "output_type": "execute_result"
    }
   ],
   "source": [
    "train.head()"
   ],
   "metadata": {
    "collapsed": false,
    "pycharm": {
     "name": "#%%\n"
    }
   }
  },
  {
   "cell_type": "markdown",
   "source": [
    "## Combine train and test set for easy preprocessing"
   ],
   "metadata": {
    "collapsed": false
   }
  },
  {
   "cell_type": "code",
   "execution_count": 4,
   "outputs": [],
   "source": [
    "# mapping the bank account with 0 to NO and 1 to YES\n",
    "train['bank_account'] = train['bank_account'].map({'No':0, 'Yes':1})"
   ],
   "metadata": {
    "collapsed": false,
    "pycharm": {
     "name": "#%%\n"
    }
   }
  },
  {
   "cell_type": "code",
   "execution_count": 5,
   "outputs": [
    {
     "name": "stdout",
     "output_type": "stream",
     "text": [
      "The shape of the combined dataframe is: (33610, 13)\n"
     ]
    },
    {
     "data": {
      "text/plain": "  country  year    uniqueid  bank_account location_type cellphone_access  \\\n0   Kenya  2018  uniqueid_1           1.0         Rural              Yes   \n1   Kenya  2018  uniqueid_2           0.0         Rural               No   \n2   Kenya  2018  uniqueid_3           1.0         Urban              Yes   \n3   Kenya  2018  uniqueid_4           0.0         Rural              Yes   \n4   Kenya  2018  uniqueid_5           0.0         Urban               No   \n\n   household_size  age_of_respondent gender_of_respondent  \\\n0               3                 24               Female   \n1               5                 70               Female   \n2               5                 26                 Male   \n3               5                 34               Female   \n4               8                 26                 Male   \n\n  relationship_with_head           marital_status  \\\n0                 Spouse  Married/Living together   \n1      Head of Household                  Widowed   \n2         Other relative     Single/Never Married   \n3      Head of Household  Married/Living together   \n4                  Child     Single/Never Married   \n\n                   education_level                   job_type  \n0              Secondary education              Self employed  \n1              No formal education       Government Dependent  \n2  Vocational/Specialised training              Self employed  \n3                Primary education  Formally employed Private  \n4                Primary education        Informally employed  ",
      "text/html": "<div>\n<style scoped>\n    .dataframe tbody tr th:only-of-type {\n        vertical-align: middle;\n    }\n\n    .dataframe tbody tr th {\n        vertical-align: top;\n    }\n\n    .dataframe thead th {\n        text-align: right;\n    }\n</style>\n<table border=\"1\" class=\"dataframe\">\n  <thead>\n    <tr style=\"text-align: right;\">\n      <th></th>\n      <th>country</th>\n      <th>year</th>\n      <th>uniqueid</th>\n      <th>bank_account</th>\n      <th>location_type</th>\n      <th>cellphone_access</th>\n      <th>household_size</th>\n      <th>age_of_respondent</th>\n      <th>gender_of_respondent</th>\n      <th>relationship_with_head</th>\n      <th>marital_status</th>\n      <th>education_level</th>\n      <th>job_type</th>\n    </tr>\n  </thead>\n  <tbody>\n    <tr>\n      <th>0</th>\n      <td>Kenya</td>\n      <td>2018</td>\n      <td>uniqueid_1</td>\n      <td>1.0</td>\n      <td>Rural</td>\n      <td>Yes</td>\n      <td>3</td>\n      <td>24</td>\n      <td>Female</td>\n      <td>Spouse</td>\n      <td>Married/Living together</td>\n      <td>Secondary education</td>\n      <td>Self employed</td>\n    </tr>\n    <tr>\n      <th>1</th>\n      <td>Kenya</td>\n      <td>2018</td>\n      <td>uniqueid_2</td>\n      <td>0.0</td>\n      <td>Rural</td>\n      <td>No</td>\n      <td>5</td>\n      <td>70</td>\n      <td>Female</td>\n      <td>Head of Household</td>\n      <td>Widowed</td>\n      <td>No formal education</td>\n      <td>Government Dependent</td>\n    </tr>\n    <tr>\n      <th>2</th>\n      <td>Kenya</td>\n      <td>2018</td>\n      <td>uniqueid_3</td>\n      <td>1.0</td>\n      <td>Urban</td>\n      <td>Yes</td>\n      <td>5</td>\n      <td>26</td>\n      <td>Male</td>\n      <td>Other relative</td>\n      <td>Single/Never Married</td>\n      <td>Vocational/Specialised training</td>\n      <td>Self employed</td>\n    </tr>\n    <tr>\n      <th>3</th>\n      <td>Kenya</td>\n      <td>2018</td>\n      <td>uniqueid_4</td>\n      <td>0.0</td>\n      <td>Rural</td>\n      <td>Yes</td>\n      <td>5</td>\n      <td>34</td>\n      <td>Female</td>\n      <td>Head of Household</td>\n      <td>Married/Living together</td>\n      <td>Primary education</td>\n      <td>Formally employed Private</td>\n    </tr>\n    <tr>\n      <th>4</th>\n      <td>Kenya</td>\n      <td>2018</td>\n      <td>uniqueid_5</td>\n      <td>0.0</td>\n      <td>Urban</td>\n      <td>No</td>\n      <td>8</td>\n      <td>26</td>\n      <td>Male</td>\n      <td>Child</td>\n      <td>Single/Never Married</td>\n      <td>Primary education</td>\n      <td>Informally employed</td>\n    </tr>\n  </tbody>\n</table>\n</div>"
     },
     "execution_count": 5,
     "metadata": {},
     "output_type": "execute_result"
    }
   ],
   "source": [
    "# Combine train and test set\n",
    "ntrain = train.shape[0] # to be used to split train and test set from the combined dataframe\n",
    "\n",
    "all_data = pd.concat((train, test)).reset_index(drop=True)\n",
    "print(f'The shape of the combined dataframe is: {all_data.shape}')\n",
    "all_data.head()"
   ],
   "metadata": {
    "collapsed": false,
    "pycharm": {
     "name": "#%%\n"
    }
   }
  },
  {
   "cell_type": "markdown",
   "source": [
    "### Feature Engineering"
   ],
   "metadata": {
    "collapsed": false,
    "pycharm": {
     "name": "#%% md\n"
    }
   }
  },
  {
   "cell_type": "code",
   "execution_count": 6,
   "outputs": [
    {
     "data": {
      "text/plain": "   year    uniqueid  bank_account  household_size  age_of_respondent  \\\n0  2018  uniqueid_1           1.0               3                 24   \n1  2018  uniqueid_2           0.0               5                 70   \n2  2018  uniqueid_3           1.0               5                 26   \n3  2018  uniqueid_4           0.0               5                 34   \n4  2018  uniqueid_5           0.0               8                 26   \n\n   country_Kenya  country_Rwanda  country_Tanzania  country_Uganda  \\\n0              1               0                 0               0   \n1              1               0                 0               0   \n2              1               0                 0               0   \n3              1               0                 0               0   \n4              1               0                 0               0   \n\n   location_type_Rural  ...  job_type_Dont Know/Refuse to answer  \\\n0                    1  ...                                    0   \n1                    1  ...                                    0   \n2                    0  ...                                    0   \n3                    1  ...                                    0   \n4                    0  ...                                    0   \n\n   job_type_Farming and Fishing  job_type_Formally employed Government  \\\n0                             0                                      0   \n1                             0                                      0   \n2                             0                                      0   \n3                             0                                      0   \n4                             0                                      0   \n\n   job_type_Formally employed Private  job_type_Government Dependent  \\\n0                                   0                              0   \n1                                   0                              1   \n2                                   0                              0   \n3                                   1                              0   \n4                                   0                              0   \n\n   job_type_Informally employed  job_type_No Income  job_type_Other Income  \\\n0                             0                   0                      0   \n1                             0                   0                      0   \n2                             0                   0                      0   \n3                             0                   0                      0   \n4                             1                   0                      0   \n\n   job_type_Remittance Dependent  job_type_Self employed  \n0                              0                       1  \n1                              0                       0  \n2                              0                       1  \n3                              0                       0  \n4                              0                       0  \n\n[5 rows x 42 columns]",
      "text/html": "<div>\n<style scoped>\n    .dataframe tbody tr th:only-of-type {\n        vertical-align: middle;\n    }\n\n    .dataframe tbody tr th {\n        vertical-align: top;\n    }\n\n    .dataframe thead th {\n        text-align: right;\n    }\n</style>\n<table border=\"1\" class=\"dataframe\">\n  <thead>\n    <tr style=\"text-align: right;\">\n      <th></th>\n      <th>year</th>\n      <th>uniqueid</th>\n      <th>bank_account</th>\n      <th>household_size</th>\n      <th>age_of_respondent</th>\n      <th>country_Kenya</th>\n      <th>country_Rwanda</th>\n      <th>country_Tanzania</th>\n      <th>country_Uganda</th>\n      <th>location_type_Rural</th>\n      <th>...</th>\n      <th>job_type_Dont Know/Refuse to answer</th>\n      <th>job_type_Farming and Fishing</th>\n      <th>job_type_Formally employed Government</th>\n      <th>job_type_Formally employed Private</th>\n      <th>job_type_Government Dependent</th>\n      <th>job_type_Informally employed</th>\n      <th>job_type_No Income</th>\n      <th>job_type_Other Income</th>\n      <th>job_type_Remittance Dependent</th>\n      <th>job_type_Self employed</th>\n    </tr>\n  </thead>\n  <tbody>\n    <tr>\n      <th>0</th>\n      <td>2018</td>\n      <td>uniqueid_1</td>\n      <td>1.0</td>\n      <td>3</td>\n      <td>24</td>\n      <td>1</td>\n      <td>0</td>\n      <td>0</td>\n      <td>0</td>\n      <td>1</td>\n      <td>...</td>\n      <td>0</td>\n      <td>0</td>\n      <td>0</td>\n      <td>0</td>\n      <td>0</td>\n      <td>0</td>\n      <td>0</td>\n      <td>0</td>\n      <td>0</td>\n      <td>1</td>\n    </tr>\n    <tr>\n      <th>1</th>\n      <td>2018</td>\n      <td>uniqueid_2</td>\n      <td>0.0</td>\n      <td>5</td>\n      <td>70</td>\n      <td>1</td>\n      <td>0</td>\n      <td>0</td>\n      <td>0</td>\n      <td>1</td>\n      <td>...</td>\n      <td>0</td>\n      <td>0</td>\n      <td>0</td>\n      <td>0</td>\n      <td>1</td>\n      <td>0</td>\n      <td>0</td>\n      <td>0</td>\n      <td>0</td>\n      <td>0</td>\n    </tr>\n    <tr>\n      <th>2</th>\n      <td>2018</td>\n      <td>uniqueid_3</td>\n      <td>1.0</td>\n      <td>5</td>\n      <td>26</td>\n      <td>1</td>\n      <td>0</td>\n      <td>0</td>\n      <td>0</td>\n      <td>0</td>\n      <td>...</td>\n      <td>0</td>\n      <td>0</td>\n      <td>0</td>\n      <td>0</td>\n      <td>0</td>\n      <td>0</td>\n      <td>0</td>\n      <td>0</td>\n      <td>0</td>\n      <td>1</td>\n    </tr>\n    <tr>\n      <th>3</th>\n      <td>2018</td>\n      <td>uniqueid_4</td>\n      <td>0.0</td>\n      <td>5</td>\n      <td>34</td>\n      <td>1</td>\n      <td>0</td>\n      <td>0</td>\n      <td>0</td>\n      <td>1</td>\n      <td>...</td>\n      <td>0</td>\n      <td>0</td>\n      <td>0</td>\n      <td>1</td>\n      <td>0</td>\n      <td>0</td>\n      <td>0</td>\n      <td>0</td>\n      <td>0</td>\n      <td>0</td>\n    </tr>\n    <tr>\n      <th>4</th>\n      <td>2018</td>\n      <td>uniqueid_5</td>\n      <td>0.0</td>\n      <td>8</td>\n      <td>26</td>\n      <td>1</td>\n      <td>0</td>\n      <td>0</td>\n      <td>0</td>\n      <td>0</td>\n      <td>...</td>\n      <td>0</td>\n      <td>0</td>\n      <td>0</td>\n      <td>0</td>\n      <td>0</td>\n      <td>1</td>\n      <td>0</td>\n      <td>0</td>\n      <td>0</td>\n      <td>0</td>\n    </tr>\n  </tbody>\n</table>\n<p>5 rows × 42 columns</p>\n</div>"
     },
     "execution_count": 6,
     "metadata": {},
     "output_type": "execute_result"
    }
   ],
   "source": [
    "cat_cols = ['country', 'location_type', 'cellphone_access',\t'gender_of_respondent',\t'relationship_with_head', 'marital_status', 'education_level', 'job_type']\n",
    "\n",
    "# Encode categorical features\n",
    "all_data = pd.get_dummies(data = all_data, columns = cat_cols)\n",
    "all_data.head()"
   ],
   "metadata": {
    "collapsed": false,
    "pycharm": {
     "name": "#%%\n"
    }
   }
  },
  {
   "cell_type": "code",
   "execution_count": 7,
   "outputs": [],
   "source": [
    "# Separate train and test data from the combined dataframe\n",
    "train_df = all_data[:ntrain]\n",
    "test_df = all_data[ntrain:]"
   ],
   "metadata": {
    "collapsed": false,
    "pycharm": {
     "name": "#%%\n"
    }
   }
  },
  {
   "cell_type": "markdown",
   "source": [
    "We select the required columns that we will have in our input data set.\n",
    "- We remove the uniqueid because it means nothing to the required output.\n",
    "- We also remove the bank_account information because it has no organic output.\n",
    "- We remove the year because time series information may cause the data fitting to overfit."
   ],
   "metadata": {
    "collapsed": false,
    "pycharm": {
     "name": "#%% md\n"
    }
   }
  },
  {
   "cell_type": "code",
   "execution_count": 8,
   "outputs": [],
   "source": [
    "# Select main columns to be used in training\n",
    "main_cols = all_data.columns.difference(['uniqueid', 'bank_account'])\n",
    "x = train_df[main_cols]\n",
    "y = train_df['bank_account']\n",
    "# lets take a look now\n",
    "x.head()\n",
    "\n",
    "# Split data into train and test sets\n",
    "x_train, x_test, y_train, y_test = train_test_split(x, y, test_size=0.3, random_state=42)"
   ],
   "metadata": {
    "collapsed": false,
    "pycharm": {
     "name": "#%%\n"
    }
   }
  },
  {
   "cell_type": "markdown",
   "source": [
    "### Model Training & Optimization\n",
    "\n",
    "We now start modelling and training. We are going to the XGBoost model to construct and\n",
    "fit our input data set.\n",
    "\n",
    "We will place the modelling process into its own function so that we can later optimize the hyper\n",
    "params."
   ],
   "metadata": {
    "collapsed": false,
    "pycharm": {
     "name": "#%% md\n"
    }
   }
  },
  {
   "cell_type": "code",
   "execution_count": 9,
   "outputs": [],
   "source": [
    "def modeller(params):\n",
    "    model = XGBClassifier(learning_rate = params[0],\n",
    "                            n_estimators = params[1],\n",
    "                            max_depth = params[2],\n",
    "                            min_child_weight = params[3],\n",
    "                            gamma = params[4],\n",
    "                            subsample = params[5],\n",
    "                            colsample_bytree = params[6],\n",
    "                            seed = 42,\n",
    "                            verbosity=0)\n",
    "    auc = cross_val_score(model, x_train, y_train, cv = 10, scoring = 'roc_auc')\n",
    "    print(auc.mean())\n",
    "    return -auc.mean()\n",
    "\n",
    "# then we define a tuning space for our random forest algo to optimize in\n",
    "space = [(1e-3, 1e-1, 'log-uniform'), # learning rate\n",
    "          (100, 2400), # n_estimators\n",
    "          (1, 10), # max_depth\n",
    "          (1, 6.), # min_child_weight\n",
    "          (0, 0.5), # gamma\n",
    "          (0.1, 1.), # subsample\n",
    "          (0.1, 1.)] # colsample_bytree\n",
    "\n",
    "# then we optimize using the random forest algorithm, which will take a lot of time...so since we our input\n",
    "# space defined above we can then simply print the output and use it instead of rerunning the whole\n",
    "# hyperparameter tuning process again...\n",
    "result = [0.02274869455295219, 920, 4, 4.008777026560296, 0.30297998739050575, 0.9336707906620142, 0.6859693229517501] # forest_minimize(modeller, space, random_state = 42, n_random_starts = 20, n_calls  = 20, verbose = 1).x"
   ],
   "metadata": {
    "collapsed": false,
    "pycharm": {
     "name": "#%%\n"
    }
   }
  },
  {
   "cell_type": "markdown",
   "source": [
    "### Making predictions of the test set and creating a submission file\n",
    "\n",
    "Once an optimized hyperparameter configuration is found we then model it and fit our data."
   ],
   "metadata": {
    "collapsed": false
   }
  },
  {
   "cell_type": "code",
   "execution_count": 10,
   "outputs": [
    {
     "name": "stdout",
     "output_type": "stream",
     "text": [
      "XGB model accuracy: 89.21790875602153%\n"
     ]
    }
   ],
   "source": [
    "model = XGBClassifier(learning_rate = result[0],\n",
    "                        n_estimators = result[1],\n",
    "                        max_depth = result[2],\n",
    "                        min_child_weight = result[3],\n",
    "                        gamma = result[4],\n",
    "                        subsample = result[5],\n",
    "                        colsample_bytree = result[6],\n",
    "                        seed = 42,\n",
    "                        verbosity=0)\n",
    "\n",
    "eval_s = [(x, y), (x_test, y_test)]\n",
    "model.fit(x_train, y_train, eval_set=eval_s, verbose=0)\n",
    "\n",
    "y_pred = model.predict(x_test)\n",
    "\n",
    "print(f'XGB model accuracy: {accuracy_score(y_pred, y_test)*100}%')\n",
    "# Make prediction on the test set"
   ],
   "metadata": {
    "collapsed": false,
    "pycharm": {
     "name": "#%%\n"
    }
   }
  },
  {
   "cell_type": "code",
   "execution_count": null,
   "outputs": [],
   "source": [
    "test_df['bank_account'] = model.predict(test_df[main_cols])\n",
    "test_df['bank_account'] = test_df['bank_account'].astype(int)\n",
    "# Create a submission file\n",
    "sub_file = test_df.copy()\n",
    "# we need to then remap the country name properly\n",
    "def country(df):\n",
    "    if df['country_Kenya'] == 1:\n",
    "        return 'Kenya'\n",
    "    elif df['country_Rwanda'] == 1:\n",
    "        return 'Rwanda'\n",
    "    elif df['country_Uganda'] == 1:\n",
    "        return 'Uganda'\n",
    "    else: return 'Tanzania'\n",
    "\n",
    "sub_file['unique_id'] = sub_file.apply(lambda k: f'{k[\"uniqueid\"]} x {country(k)}', axis=1)\n",
    "sub_file = sub_file.filter(['unique_id', 'bank_account'], axis=1)\n",
    "# Check the distribution of your predictions\n",
    "# sns.countplot(sub_file.predictions);"
   ],
   "metadata": {
    "collapsed": false,
    "pycharm": {
     "name": "#%%\n"
    }
   }
  },
  {
   "cell_type": "code",
   "execution_count": 11,
   "outputs": [],
   "source": [
    "# Create a csv file and upload to Zindi\n",
    "sub_file.to_csv('baseline.csv', index = False)\n",
    "# files.download('baseline.csv')"
   ],
   "metadata": {
    "collapsed": false,
    "pycharm": {
     "name": "#%%\n"
    }
   }
  },
  {
   "cell_type": "markdown",
   "source": [
    "### Monitoring Learning Rate\n",
    "\n",
    "We plot learning rate to tune and optimize our learning algorithm"
   ],
   "metadata": {
    "collapsed": false,
    "pycharm": {
     "name": "#%% md\n"
    }
   }
  },
  {
   "cell_type": "code",
   "execution_count": 12,
   "outputs": [
    {
     "data": {
      "text/plain": "<Figure size 432x288 with 1 Axes>",
      "image/png": "[encoded data removed]"
     },
     "metadata": {
      "needs_background": "light"
     },
     "output_type": "display_data"
    }
   ],
   "source": [
    "results = model.evals_result()\n",
    "# files.download('Baseline.csv')\n",
    "plt.plot(results['validation_0']['logloss'], label='train')\n",
    "plt.plot(results['validation_1']['logloss'], label='test')\n",
    "# show the legend\n",
    "plt.legend()\n",
    "# show the plot\n",
    "plt.show()"
   ],
   "metadata": {
    "collapsed": false,
    "pycharm": {
     "name": "#%%\n"
    }
   }
  }
 ],
 "metadata": {
  "kernelspec": {
   "display_name": "Python 3",
   "language": "python",
   "name": "python3"
  },
  "language_info": {
   "codemirror_mode": {
    "name": "ipython",
    "version": 2
   },
   "file_extension": ".py",
   "mimetype": "text/x-python",
   "name": "python",
   "nbconvert_exporter": "python",
   "pygments_lexer": "ipython2",
   "version": "2.7.6"
  }
 },
 "nbformat": 4,
 "nbformat_minor": 0
}