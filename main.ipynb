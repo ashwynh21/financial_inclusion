{
 "cells": [
  {
   "cell_type": "markdown",
   "metadata": {
    "collapsed": true,
    "pycharm": {
     "name": "#%% md\n"
    }
   },
   "source": [
    "# Financial Inclusion in Africa\n",
    "\n",
    "Here we are going to describe and implement a solution to predicting whether an individual feature\n",
    "set is likely to have a back account or not."
   ]
  },
  {
   "cell_type": "markdown",
   "source": [
    "We begin by getting our tools in order, so we will be importing the basic data manipulation utilities,\n",
    "plotting functions and finally, our model of choice."
   ],
   "metadata": {
    "collapsed": false,
    "pycharm": {
     "name": "#%% md\n"
    }
   }
  },
  {
   "cell_type": "markdown",
   "source": [
    "###### For Data Processing"
   ],
   "metadata": {
    "collapsed": false,
    "pycharm": {
     "name": "#%% md\n"
    }
   }
  },
  {
   "cell_type": "code",
   "execution_count": 353,
   "outputs": [],
   "source": [
    "import numpy as np\n",
    "import seaborn as sns\n",
    "import pandas as pd\n",
    "import imblearn as il"
   ],
   "metadata": {
    "collapsed": false,
    "pycharm": {
     "name": "#%%\n"
    }
   }
  },
  {
   "cell_type": "markdown",
   "source": [
    "###### For Display"
   ],
   "metadata": {
    "collapsed": false
   }
  },
  {
   "cell_type": "code",
   "execution_count": 354,
   "outputs": [],
   "source": [
    "import matplotlib.pyplot as plt"
   ],
   "metadata": {
    "collapsed": false,
    "pycharm": {
     "name": "#%%\n"
    }
   }
  },
  {
   "cell_type": "markdown",
   "source": [
    "###### For Machine Learning"
   ],
   "metadata": {
    "collapsed": false
   }
  },
  {
   "cell_type": "code",
   "execution_count": 355,
   "outputs": [],
   "source": [
    "from sklearn.model_selection import train_test_split\n",
    "from xgboost import XGBClassifier\n",
    "from sklearn.metrics import accuracy_score, f1_score\n",
    "from sklearn.model_selection import cross_val_score\n",
    "from sklearn.ensemble import BaggingRegressor"
   ],
   "metadata": {
    "collapsed": false,
    "pycharm": {
     "name": "#%%\n"
    }
   }
  },
  {
   "cell_type": "markdown",
   "source": [
    "We will just disable any warnings here."
   ],
   "metadata": {
    "collapsed": false
   }
  },
  {
   "cell_type": "code",
   "execution_count": 356,
   "outputs": [],
   "source": [
    "import warnings\n",
    "warnings.filterwarnings('ignore')"
   ],
   "metadata": {
    "collapsed": false,
    "pycharm": {
     "name": "#%%\n"
    }
   }
  },
  {
   "cell_type": "markdown",
   "source": [
    "### Read Files\n",
    "\n",
    "We then read in our source files with the training and testing data that we will need, we will also\n",
    "read in and show the variable definitions file to get the sentiment behind the data provided."
   ],
   "metadata": {
    "collapsed": false
   }
  },
  {
   "cell_type": "code",
   "execution_count": 357,
   "outputs": [
    {
     "data": {
      "text/plain": "  Variable Definitions                                         Unnamed: 1\n0              country                         Country interviewee is in.\n1                 year                           Year survey was done in.\n2             uniqueid             Unique identifier for each interviewee\n3        location_type                     Type of location: Rural, Urban\n4     cellphone_access  If interviewee has access to a cellphone: Yes, No",
      "text/html": "<div>\n<style scoped>\n    .dataframe tbody tr th:only-of-type {\n        vertical-align: middle;\n    }\n\n    .dataframe tbody tr th {\n        vertical-align: top;\n    }\n\n    .dataframe thead th {\n        text-align: right;\n    }\n</style>\n<table border=\"1\" class=\"dataframe\">\n  <thead>\n    <tr style=\"text-align: right;\">\n      <th></th>\n      <th>Variable Definitions</th>\n      <th>Unnamed: 1</th>\n    </tr>\n  </thead>\n  <tbody>\n    <tr>\n      <th>0</th>\n      <td>country</td>\n      <td>Country interviewee is in.</td>\n    </tr>\n    <tr>\n      <th>1</th>\n      <td>year</td>\n      <td>Year survey was done in.</td>\n    </tr>\n    <tr>\n      <th>2</th>\n      <td>uniqueid</td>\n      <td>Unique identifier for each interviewee</td>\n    </tr>\n    <tr>\n      <th>3</th>\n      <td>location_type</td>\n      <td>Type of location: Rural, Urban</td>\n    </tr>\n    <tr>\n      <th>4</th>\n      <td>cellphone_access</td>\n      <td>If interviewee has access to a cellphone: Yes, No</td>\n    </tr>\n  </tbody>\n</table>\n</div>"
     },
     "execution_count": 357,
     "metadata": {},
     "output_type": "execute_result"
    }
   ],
   "source": [
    "# load files into a pandas dataframe\n",
    "train = pd.read_csv('assets/train.csv')\n",
    "test = pd.read_csv('assets/test.csv')\n",
    "\n",
    "# we get the variable definitions\n",
    "definitions = pd.read_csv('assets/definitions.csv')\n",
    "definitions.head()"
   ],
   "metadata": {
    "collapsed": false,
    "pycharm": {
     "name": "#%%\n"
    }
   }
  },
  {
   "cell_type": "markdown",
   "source": [
    "##### A preview of the training data"
   ],
   "metadata": {
    "collapsed": false
   }
  },
  {
   "cell_type": "code",
   "execution_count": 358,
   "outputs": [
    {
     "data": {
      "text/plain": "  country  year    uniqueid bank_account location_type cellphone_access  \\\n0   Kenya  2018  uniqueid_1          Yes         Rural              Yes   \n1   Kenya  2018  uniqueid_2           No         Rural               No   \n2   Kenya  2018  uniqueid_3          Yes         Urban              Yes   \n3   Kenya  2018  uniqueid_4           No         Rural              Yes   \n4   Kenya  2018  uniqueid_5           No         Urban               No   \n\n   household_size  age_of_respondent gender_of_respondent  \\\n0               3                 24               Female   \n1               5                 70               Female   \n2               5                 26                 Male   \n3               5                 34               Female   \n4               8                 26                 Male   \n\n  relationship_with_head           marital_status  \\\n0                 Spouse  Married/Living together   \n1      Head of Household                  Widowed   \n2         Other relative     Single/Never Married   \n3      Head of Household  Married/Living together   \n4                  Child     Single/Never Married   \n\n                   education_level                   job_type  \n0              Secondary education              Self employed  \n1              No formal education       Government Dependent  \n2  Vocational/Specialised training              Self employed  \n3                Primary education  Formally employed Private  \n4                Primary education        Informally employed  ",
      "text/html": "<div>\n<style scoped>\n    .dataframe tbody tr th:only-of-type {\n        vertical-align: middle;\n    }\n\n    .dataframe tbody tr th {\n        vertical-align: top;\n    }\n\n    .dataframe thead th {\n        text-align: right;\n    }\n</style>\n<table border=\"1\" class=\"dataframe\">\n  <thead>\n    <tr style=\"text-align: right;\">\n      <th></th>\n      <th>country</th>\n      <th>year</th>\n      <th>uniqueid</th>\n      <th>bank_account</th>\n      <th>location_type</th>\n      <th>cellphone_access</th>\n      <th>household_size</th>\n      <th>age_of_respondent</th>\n      <th>gender_of_respondent</th>\n      <th>relationship_with_head</th>\n      <th>marital_status</th>\n      <th>education_level</th>\n      <th>job_type</th>\n    </tr>\n  </thead>\n  <tbody>\n    <tr>\n      <th>0</th>\n      <td>Kenya</td>\n      <td>2018</td>\n      <td>uniqueid_1</td>\n      <td>Yes</td>\n      <td>Rural</td>\n      <td>Yes</td>\n      <td>3</td>\n      <td>24</td>\n      <td>Female</td>\n      <td>Spouse</td>\n      <td>Married/Living together</td>\n      <td>Secondary education</td>\n      <td>Self employed</td>\n    </tr>\n    <tr>\n      <th>1</th>\n      <td>Kenya</td>\n      <td>2018</td>\n      <td>uniqueid_2</td>\n      <td>No</td>\n      <td>Rural</td>\n      <td>No</td>\n      <td>5</td>\n      <td>70</td>\n      <td>Female</td>\n      <td>Head of Household</td>\n      <td>Widowed</td>\n      <td>No formal education</td>\n      <td>Government Dependent</td>\n    </tr>\n    <tr>\n      <th>2</th>\n      <td>Kenya</td>\n      <td>2018</td>\n      <td>uniqueid_3</td>\n      <td>Yes</td>\n      <td>Urban</td>\n      <td>Yes</td>\n      <td>5</td>\n      <td>26</td>\n      <td>Male</td>\n      <td>Other relative</td>\n      <td>Single/Never Married</td>\n      <td>Vocational/Specialised training</td>\n      <td>Self employed</td>\n    </tr>\n    <tr>\n      <th>3</th>\n      <td>Kenya</td>\n      <td>2018</td>\n      <td>uniqueid_4</td>\n      <td>No</td>\n      <td>Rural</td>\n      <td>Yes</td>\n      <td>5</td>\n      <td>34</td>\n      <td>Female</td>\n      <td>Head of Household</td>\n      <td>Married/Living together</td>\n      <td>Primary education</td>\n      <td>Formally employed Private</td>\n    </tr>\n    <tr>\n      <th>4</th>\n      <td>Kenya</td>\n      <td>2018</td>\n      <td>uniqueid_5</td>\n      <td>No</td>\n      <td>Urban</td>\n      <td>No</td>\n      <td>8</td>\n      <td>26</td>\n      <td>Male</td>\n      <td>Child</td>\n      <td>Single/Never Married</td>\n      <td>Primary education</td>\n      <td>Informally employed</td>\n    </tr>\n  </tbody>\n</table>\n</div>"
     },
     "execution_count": 358,
     "metadata": {},
     "output_type": "execute_result"
    }
   ],
   "source": [
    "train.head()"
   ],
   "metadata": {
    "collapsed": false,
    "pycharm": {
     "name": "#%%\n"
    }
   }
  },
  {
   "cell_type": "markdown",
   "source": [
    "## Combine train and test set for easy preprocessing"
   ],
   "metadata": {
    "collapsed": false
   }
  },
  {
   "cell_type": "code",
   "execution_count": 359,
   "outputs": [],
   "source": [
    "# mapping the bank account with 0 to NO and 1 to YES\n",
    "train['bank_account'] = train['bank_account'].map({'No':0, 'Yes':1})\n",
    "# Combine train and test set\n",
    "ntrain = train.shape[0]\n",
    "\n",
    "all_data = pd.concat((train, test)).reset_index(drop=True)"
   ],
   "metadata": {
    "collapsed": false,
    "pycharm": {
     "name": "#%%\n"
    }
   }
  },
  {
   "cell_type": "markdown",
   "source": [
    "### Feature Engineering\n",
    "\n",
    "Here we select the variables that are useful as described in the definitions file. So we will probably\n",
    "not need to ``uniqueid`` or ``bank_account`` since first does not relate to the sentiment and the latter\n",
    "is what we are trying to predict accurately.\n",
    "\n",
    "We have chosen target encoding because it keeps the parameters of our data the same and does not expand\n",
    "the data set."
   ],
   "metadata": {
    "collapsed": false,
    "pycharm": {
     "name": "#%% md\n"
    }
   }
  },
  {
   "cell_type": "code",
   "execution_count": 360,
   "outputs": [
    {
     "name": "stdout",
     "output_type": "stream",
     "text": [
      "country\n",
      "['Kenya' 'Rwanda' 'Tanzania' 'Uganda'] \n",
      "\n",
      "location_type\n",
      "['Rural' 'Urban'] \n",
      "\n",
      "cellphone_access\n",
      "['Yes' 'No'] \n",
      "\n",
      "gender_of_respondent\n",
      "['Female' 'Male'] \n",
      "\n",
      "relationship_with_head\n",
      "['Spouse' 'Head of Household' 'Other relative' 'Child' 'Parent'\n",
      " 'Other non-relatives'] \n",
      "\n",
      "marital_status\n",
      "['Married/Living together' 'Widowed' 'Single/Never Married'\n",
      " 'Divorced/Seperated' 'Dont know'] \n",
      "\n",
      "education_level\n",
      "['Secondary education' 'No formal education'\n",
      " 'Vocational/Specialised training' 'Primary education'\n",
      " 'Tertiary education' 'Other/Dont know/RTA'] \n",
      "\n",
      "job_type\n",
      "['Self employed' 'Government Dependent' 'Formally employed Private'\n",
      " 'Informally employed' 'Formally employed Government'\n",
      " 'Farming and Fishing' 'Remittance Dependent' 'Other Income'\n",
      " 'Dont Know/Refuse to answer' 'No Income'] \n",
      "\n"
     ]
    }
   ],
   "source": [
    "# Check unique values for each categorical column\n",
    "cat_cols = ['country',\t'location_type',\t'cellphone_access',\t'gender_of_respondent',\t'relationship_with_head', 'marital_status', 'education_level',\t'job_type']\n",
    "for col in cat_cols:\n",
    "  print(col)\n",
    "  print(all_data[col].unique(), '\\n')"
   ],
   "metadata": {
    "collapsed": false,
    "pycharm": {
     "name": "#%%\n"
    }
   }
  },
  {
   "cell_type": "code",
   "execution_count": 361,
   "outputs": [
    {
     "data": {
      "text/plain": "   year    uniqueid  bank_account  household_size  age_of_respondent  \\\n0  2018  uniqueid_1           1.0               3                 24   \n1  2018  uniqueid_2           0.0               5                 70   \n2  2018  uniqueid_3           1.0               5                 26   \n3  2018  uniqueid_4           0.0               5                 34   \n4  2018  uniqueid_5           0.0               8                 26   \n\n   country_Kenya  country_Rwanda  country_Tanzania  country_Uganda  \\\n0              1               0                 0               0   \n1              1               0                 0               0   \n2              1               0                 0               0   \n3              1               0                 0               0   \n4              1               0                 0               0   \n\n   location_type_Rural  ...  job_type_Dont Know/Refuse to answer  \\\n0                    1  ...                                    0   \n1                    1  ...                                    0   \n2                    0  ...                                    0   \n3                    1  ...                                    0   \n4                    0  ...                                    0   \n\n   job_type_Farming and Fishing  job_type_Formally employed Government  \\\n0                             0                                      0   \n1                             0                                      0   \n2                             0                                      0   \n3                             0                                      0   \n4                             0                                      0   \n\n   job_type_Formally employed Private  job_type_Government Dependent  \\\n0                                   0                              0   \n1                                   0                              1   \n2                                   0                              0   \n3                                   1                              0   \n4                                   0                              0   \n\n   job_type_Informally employed  job_type_No Income  job_type_Other Income  \\\n0                             0                   0                      0   \n1                             0                   0                      0   \n2                             0                   0                      0   \n3                             0                   0                      0   \n4                             1                   0                      0   \n\n   job_type_Remittance Dependent  job_type_Self employed  \n0                              0                       1  \n1                              0                       0  \n2                              0                       1  \n3                              0                       0  \n4                              0                       0  \n\n[5 rows x 42 columns]",
      "text/html": "<div>\n<style scoped>\n    .dataframe tbody tr th:only-of-type {\n        vertical-align: middle;\n    }\n\n    .dataframe tbody tr th {\n        vertical-align: top;\n    }\n\n    .dataframe thead th {\n        text-align: right;\n    }\n</style>\n<table border=\"1\" class=\"dataframe\">\n  <thead>\n    <tr style=\"text-align: right;\">\n      <th></th>\n      <th>year</th>\n      <th>uniqueid</th>\n      <th>bank_account</th>\n      <th>household_size</th>\n      <th>age_of_respondent</th>\n      <th>country_Kenya</th>\n      <th>country_Rwanda</th>\n      <th>country_Tanzania</th>\n      <th>country_Uganda</th>\n      <th>location_type_Rural</th>\n      <th>...</th>\n      <th>job_type_Dont Know/Refuse to answer</th>\n      <th>job_type_Farming and Fishing</th>\n      <th>job_type_Formally employed Government</th>\n      <th>job_type_Formally employed Private</th>\n      <th>job_type_Government Dependent</th>\n      <th>job_type_Informally employed</th>\n      <th>job_type_No Income</th>\n      <th>job_type_Other Income</th>\n      <th>job_type_Remittance Dependent</th>\n      <th>job_type_Self employed</th>\n    </tr>\n  </thead>\n  <tbody>\n    <tr>\n      <th>0</th>\n      <td>2018</td>\n      <td>uniqueid_1</td>\n      <td>1.0</td>\n      <td>3</td>\n      <td>24</td>\n      <td>1</td>\n      <td>0</td>\n      <td>0</td>\n      <td>0</td>\n      <td>1</td>\n      <td>...</td>\n      <td>0</td>\n      <td>0</td>\n      <td>0</td>\n      <td>0</td>\n      <td>0</td>\n      <td>0</td>\n      <td>0</td>\n      <td>0</td>\n      <td>0</td>\n      <td>1</td>\n    </tr>\n    <tr>\n      <th>1</th>\n      <td>2018</td>\n      <td>uniqueid_2</td>\n      <td>0.0</td>\n      <td>5</td>\n      <td>70</td>\n      <td>1</td>\n      <td>0</td>\n      <td>0</td>\n      <td>0</td>\n      <td>1</td>\n      <td>...</td>\n      <td>0</td>\n      <td>0</td>\n      <td>0</td>\n      <td>0</td>\n      <td>1</td>\n      <td>0</td>\n      <td>0</td>\n      <td>0</td>\n      <td>0</td>\n      <td>0</td>\n    </tr>\n    <tr>\n      <th>2</th>\n      <td>2018</td>\n      <td>uniqueid_3</td>\n      <td>1.0</td>\n      <td>5</td>\n      <td>26</td>\n      <td>1</td>\n      <td>0</td>\n      <td>0</td>\n      <td>0</td>\n      <td>0</td>\n      <td>...</td>\n      <td>0</td>\n      <td>0</td>\n      <td>0</td>\n      <td>0</td>\n      <td>0</td>\n      <td>0</td>\n      <td>0</td>\n      <td>0</td>\n      <td>0</td>\n      <td>1</td>\n    </tr>\n    <tr>\n      <th>3</th>\n      <td>2018</td>\n      <td>uniqueid_4</td>\n      <td>0.0</td>\n      <td>5</td>\n      <td>34</td>\n      <td>1</td>\n      <td>0</td>\n      <td>0</td>\n      <td>0</td>\n      <td>1</td>\n      <td>...</td>\n      <td>0</td>\n      <td>0</td>\n      <td>0</td>\n      <td>1</td>\n      <td>0</td>\n      <td>0</td>\n      <td>0</td>\n      <td>0</td>\n      <td>0</td>\n      <td>0</td>\n    </tr>\n    <tr>\n      <th>4</th>\n      <td>2018</td>\n      <td>uniqueid_5</td>\n      <td>0.0</td>\n      <td>8</td>\n      <td>26</td>\n      <td>1</td>\n      <td>0</td>\n      <td>0</td>\n      <td>0</td>\n      <td>0</td>\n      <td>...</td>\n      <td>0</td>\n      <td>0</td>\n      <td>0</td>\n      <td>0</td>\n      <td>0</td>\n      <td>1</td>\n      <td>0</td>\n      <td>0</td>\n      <td>0</td>\n      <td>0</td>\n    </tr>\n  </tbody>\n</table>\n<p>5 rows × 42 columns</p>\n</div>"
     },
     "execution_count": 361,
     "metadata": {},
     "output_type": "execute_result"
    }
   ],
   "source": [
    "# Select main columns to be used in training\n",
    "# encoder = TargetEncoder(cols=main_cols)\n",
    "\n",
    "all_data = pd.get_dummies(data=all_data, columns=cat_cols)\n",
    "# temp = encoder.fit_transform(all_data, all_data['bank_account'])\n",
    "# temp['bank_account'] = all_data['bank_account']\n",
    "# temp['origin'] = all_data['country']\n",
    "# all_data = temp\n",
    "\n",
    "all_data.head()"
   ],
   "metadata": {
    "collapsed": false,
    "pycharm": {
     "name": "#%%\n"
    }
   }
  },
  {
   "cell_type": "markdown",
   "source": [
    "We can clearly see three points on the scatter plot above.\n",
    "- The data we have is not balanced in that there are more samples on individuals who do not have\n",
    "bank accounts.\n",
    "- To the individuals that have accounts, there are clusters that form over certain parameters\n",
    "- The higher density areas of the plot mostly consists of people without bank accounts.\n",
    "\n",
    "With these notes, we then begin splitting our data set so that we can work our training data."
   ],
   "metadata": {
    "collapsed": false,
    "pycharm": {
     "name": "#%% md\n"
    }
   }
  },
  {
   "cell_type": "code",
   "execution_count": 362,
   "outputs": [
    {
     "data": {
      "text/plain": "   year    uniqueid  bank_account  household_size  age_of_respondent  \\\n0  2018  uniqueid_1           1.0               3                 24   \n1  2018  uniqueid_2           0.0               5                 70   \n2  2018  uniqueid_3           1.0               5                 26   \n3  2018  uniqueid_4           0.0               5                 34   \n4  2018  uniqueid_5           0.0               8                 26   \n\n   country_Kenya  country_Rwanda  country_Tanzania  country_Uganda  \\\n0              1               0                 0               0   \n1              1               0                 0               0   \n2              1               0                 0               0   \n3              1               0                 0               0   \n4              1               0                 0               0   \n\n   location_type_Rural  ...  job_type_Dont Know/Refuse to answer  \\\n0                    1  ...                                    0   \n1                    1  ...                                    0   \n2                    0  ...                                    0   \n3                    1  ...                                    0   \n4                    0  ...                                    0   \n\n   job_type_Farming and Fishing  job_type_Formally employed Government  \\\n0                             0                                      0   \n1                             0                                      0   \n2                             0                                      0   \n3                             0                                      0   \n4                             0                                      0   \n\n   job_type_Formally employed Private  job_type_Government Dependent  \\\n0                                   0                              0   \n1                                   0                              1   \n2                                   0                              0   \n3                                   1                              0   \n4                                   0                              0   \n\n   job_type_Informally employed  job_type_No Income  job_type_Other Income  \\\n0                             0                   0                      0   \n1                             0                   0                      0   \n2                             0                   0                      0   \n3                             0                   0                      0   \n4                             1                   0                      0   \n\n   job_type_Remittance Dependent  job_type_Self employed  \n0                              0                       1  \n1                              0                       0  \n2                              0                       1  \n3                              0                       0  \n4                              0                       0  \n\n[5 rows x 42 columns]",
      "text/html": "<div>\n<style scoped>\n    .dataframe tbody tr th:only-of-type {\n        vertical-align: middle;\n    }\n\n    .dataframe tbody tr th {\n        vertical-align: top;\n    }\n\n    .dataframe thead th {\n        text-align: right;\n    }\n</style>\n<table border=\"1\" class=\"dataframe\">\n  <thead>\n    <tr style=\"text-align: right;\">\n      <th></th>\n      <th>year</th>\n      <th>uniqueid</th>\n      <th>bank_account</th>\n      <th>household_size</th>\n      <th>age_of_respondent</th>\n      <th>country_Kenya</th>\n      <th>country_Rwanda</th>\n      <th>country_Tanzania</th>\n      <th>country_Uganda</th>\n      <th>location_type_Rural</th>\n      <th>...</th>\n      <th>job_type_Dont Know/Refuse to answer</th>\n      <th>job_type_Farming and Fishing</th>\n      <th>job_type_Formally employed Government</th>\n      <th>job_type_Formally employed Private</th>\n      <th>job_type_Government Dependent</th>\n      <th>job_type_Informally employed</th>\n      <th>job_type_No Income</th>\n      <th>job_type_Other Income</th>\n      <th>job_type_Remittance Dependent</th>\n      <th>job_type_Self employed</th>\n    </tr>\n  </thead>\n  <tbody>\n    <tr>\n      <th>0</th>\n      <td>2018</td>\n      <td>uniqueid_1</td>\n      <td>1.0</td>\n      <td>3</td>\n      <td>24</td>\n      <td>1</td>\n      <td>0</td>\n      <td>0</td>\n      <td>0</td>\n      <td>1</td>\n      <td>...</td>\n      <td>0</td>\n      <td>0</td>\n      <td>0</td>\n      <td>0</td>\n      <td>0</td>\n      <td>0</td>\n      <td>0</td>\n      <td>0</td>\n      <td>0</td>\n      <td>1</td>\n    </tr>\n    <tr>\n      <th>1</th>\n      <td>2018</td>\n      <td>uniqueid_2</td>\n      <td>0.0</td>\n      <td>5</td>\n      <td>70</td>\n      <td>1</td>\n      <td>0</td>\n      <td>0</td>\n      <td>0</td>\n      <td>1</td>\n      <td>...</td>\n      <td>0</td>\n      <td>0</td>\n      <td>0</td>\n      <td>0</td>\n      <td>1</td>\n      <td>0</td>\n      <td>0</td>\n      <td>0</td>\n      <td>0</td>\n      <td>0</td>\n    </tr>\n    <tr>\n      <th>2</th>\n      <td>2018</td>\n      <td>uniqueid_3</td>\n      <td>1.0</td>\n      <td>5</td>\n      <td>26</td>\n      <td>1</td>\n      <td>0</td>\n      <td>0</td>\n      <td>0</td>\n      <td>0</td>\n      <td>...</td>\n      <td>0</td>\n      <td>0</td>\n      <td>0</td>\n      <td>0</td>\n      <td>0</td>\n      <td>0</td>\n      <td>0</td>\n      <td>0</td>\n      <td>0</td>\n      <td>1</td>\n    </tr>\n    <tr>\n      <th>3</th>\n      <td>2018</td>\n      <td>uniqueid_4</td>\n      <td>0.0</td>\n      <td>5</td>\n      <td>34</td>\n      <td>1</td>\n      <td>0</td>\n      <td>0</td>\n      <td>0</td>\n      <td>1</td>\n      <td>...</td>\n      <td>0</td>\n      <td>0</td>\n      <td>0</td>\n      <td>1</td>\n      <td>0</td>\n      <td>0</td>\n      <td>0</td>\n      <td>0</td>\n      <td>0</td>\n      <td>0</td>\n    </tr>\n    <tr>\n      <th>4</th>\n      <td>2018</td>\n      <td>uniqueid_5</td>\n      <td>0.0</td>\n      <td>8</td>\n      <td>26</td>\n      <td>1</td>\n      <td>0</td>\n      <td>0</td>\n      <td>0</td>\n      <td>0</td>\n      <td>...</td>\n      <td>0</td>\n      <td>0</td>\n      <td>0</td>\n      <td>0</td>\n      <td>0</td>\n      <td>1</td>\n      <td>0</td>\n      <td>0</td>\n      <td>0</td>\n      <td>0</td>\n    </tr>\n  </tbody>\n</table>\n<p>5 rows × 42 columns</p>\n</div>"
     },
     "execution_count": 362,
     "metadata": {},
     "output_type": "execute_result"
    }
   ],
   "source": [
    "# Separate train and test data from the combined dataframe\n",
    "train_df = all_data[:ntrain]\n",
    "test_df = all_data[ntrain:]\n",
    "\n",
    "train_df.head()"
   ],
   "metadata": {
    "collapsed": false,
    "pycharm": {
     "name": "#%%\n"
    }
   }
  },
  {
   "cell_type": "markdown",
   "source": [
    "### Distribution of the target variable"
   ],
   "metadata": {
    "collapsed": false
   }
  },
  {
   "cell_type": "code",
   "execution_count": 363,
   "outputs": [
    {
     "data": {
      "text/plain": "<Figure size 432x288 with 1 Axes>",
      "image/png": "[encoded data removed]"
     },
     "metadata": {
      "needs_background": "light"
     },
     "output_type": "display_data"
    }
   ],
   "source": [
    "sns.countplot(train.bank_account)\n",
    "plt.title('Target Distribution', fontdict={'size':14});"
   ],
   "metadata": {
    "collapsed": false,
    "pycharm": {
     "name": "#%%\n"
    }
   }
  },
  {
   "cell_type": "markdown",
   "source": [
    "### Data balancing and Resampling\n",
    "\n",
    "Since we saw that our data was not balanced we will need to select a balancing method. That said, we\n",
    "noted that our data has a minority set and also that both the minority and majority data tends to\n",
    "cluster. From this, we have chosen to use *Synthetic Minority Oversampling Technique (SMOTE)* with a\n",
    "*K-Nearest Neighbors (KNN)* clustering mechanic where *``k``* is set optimally at *``20``*. From this\n",
    "resampled set we can then make our training data and testing data."
   ],
   "metadata": {
    "collapsed": false,
    "pycharm": {
     "name": "#%% md\n"
    }
   }
  },
  {
   "cell_type": "code",
   "execution_count": 364,
   "outputs": [
    {
     "data": {
      "text/plain": "       age_of_respondent  cellphone_access_No  cellphone_access_Yes  \\\n21603                 73                    0                     1   \n27682                 39                    0                     1   \n17887                 51                    1                     0   \n36323                 38                    0                     1   \n27514                 42                    0                     1   \n\n       country_Kenya  country_Rwanda  country_Tanzania  country_Uganda  \\\n21603              0               0                 0               1   \n27682              1               0                 0               0   \n17887              0               0                 1               0   \n36323              0               1                 0               0   \n27514              0               0                 1               0   \n\n       education_level_No formal education  \\\n21603                                    0   \n27682                                    0   \n17887                                    0   \n36323                                    0   \n27514                                    0   \n\n       education_level_Other/Dont know/RTA  education_level_Primary education  \\\n21603                                    0                                  1   \n27682                                    0                                  0   \n17887                                    0                                  1   \n36323                                    0                                  1   \n27514                                    0                                  0   \n\n       ...  marital_status_Married/Living together  \\\n21603  ...                                       1   \n27682  ...                                       1   \n17887  ...                                       0   \n36323  ...                                       1   \n27514  ...                                       0   \n\n       marital_status_Single/Never Married  marital_status_Widowed  \\\n21603                                    0                       0   \n27682                                    0                       0   \n17887                                    1                       0   \n36323                                    0                       0   \n27514                                    1                       0   \n\n       relationship_with_head_Child  relationship_with_head_Head of Household  \\\n21603                             0                                         1   \n27682                             0                                         1   \n17887                             0                                         1   \n36323                             0                                         0   \n27514                             0                                         1   \n\n       relationship_with_head_Other non-relatives  \\\n21603                                           0   \n27682                                           0   \n17887                                           0   \n36323                                           0   \n27514                                           0   \n\n       relationship_with_head_Other relative  relationship_with_head_Parent  \\\n21603                                      0                              0   \n27682                                      0                              0   \n17887                                      0                              0   \n36323                                      0                              0   \n27514                                      0                              0   \n\n       relationship_with_head_Spouse  year  \n21603                              0  2018  \n27682                              0  2018  \n17887                              0  2017  \n36323                              1  2016  \n27514                              0  2017  \n\n[5 rows x 40 columns]",
      "text/html": "<div>\n<style scoped>\n    .dataframe tbody tr th:only-of-type {\n        vertical-align: middle;\n    }\n\n    .dataframe tbody tr th {\n        vertical-align: top;\n    }\n\n    .dataframe thead th {\n        text-align: right;\n    }\n</style>\n<table border=\"1\" class=\"dataframe\">\n  <thead>\n    <tr style=\"text-align: right;\">\n      <th></th>\n      <th>age_of_respondent</th>\n      <th>cellphone_access_No</th>\n      <th>cellphone_access_Yes</th>\n      <th>country_Kenya</th>\n      <th>country_Rwanda</th>\n      <th>country_Tanzania</th>\n      <th>country_Uganda</th>\n      <th>education_level_No formal education</th>\n      <th>education_level_Other/Dont know/RTA</th>\n      <th>education_level_Primary education</th>\n      <th>...</th>\n      <th>marital_status_Married/Living together</th>\n      <th>marital_status_Single/Never Married</th>\n      <th>marital_status_Widowed</th>\n      <th>relationship_with_head_Child</th>\n      <th>relationship_with_head_Head of Household</th>\n      <th>relationship_with_head_Other non-relatives</th>\n      <th>relationship_with_head_Other relative</th>\n      <th>relationship_with_head_Parent</th>\n      <th>relationship_with_head_Spouse</th>\n      <th>year</th>\n    </tr>\n  </thead>\n  <tbody>\n    <tr>\n      <th>21603</th>\n      <td>73</td>\n      <td>0</td>\n      <td>1</td>\n      <td>0</td>\n      <td>0</td>\n      <td>0</td>\n      <td>1</td>\n      <td>0</td>\n      <td>0</td>\n      <td>1</td>\n      <td>...</td>\n      <td>1</td>\n      <td>0</td>\n      <td>0</td>\n      <td>0</td>\n      <td>1</td>\n      <td>0</td>\n      <td>0</td>\n      <td>0</td>\n      <td>0</td>\n      <td>2018</td>\n    </tr>\n    <tr>\n      <th>27682</th>\n      <td>39</td>\n      <td>0</td>\n      <td>1</td>\n      <td>1</td>\n      <td>0</td>\n      <td>0</td>\n      <td>0</td>\n      <td>0</td>\n      <td>0</td>\n      <td>0</td>\n      <td>...</td>\n      <td>1</td>\n      <td>0</td>\n      <td>0</td>\n      <td>0</td>\n      <td>1</td>\n      <td>0</td>\n      <td>0</td>\n      <td>0</td>\n      <td>0</td>\n      <td>2018</td>\n    </tr>\n    <tr>\n      <th>17887</th>\n      <td>51</td>\n      <td>1</td>\n      <td>0</td>\n      <td>0</td>\n      <td>0</td>\n      <td>1</td>\n      <td>0</td>\n      <td>0</td>\n      <td>0</td>\n      <td>1</td>\n      <td>...</td>\n      <td>0</td>\n      <td>1</td>\n      <td>0</td>\n      <td>0</td>\n      <td>1</td>\n      <td>0</td>\n      <td>0</td>\n      <td>0</td>\n      <td>0</td>\n      <td>2017</td>\n    </tr>\n    <tr>\n      <th>36323</th>\n      <td>38</td>\n      <td>0</td>\n      <td>1</td>\n      <td>0</td>\n      <td>1</td>\n      <td>0</td>\n      <td>0</td>\n      <td>0</td>\n      <td>0</td>\n      <td>1</td>\n      <td>...</td>\n      <td>1</td>\n      <td>0</td>\n      <td>0</td>\n      <td>0</td>\n      <td>0</td>\n      <td>0</td>\n      <td>0</td>\n      <td>0</td>\n      <td>1</td>\n      <td>2016</td>\n    </tr>\n    <tr>\n      <th>27514</th>\n      <td>42</td>\n      <td>0</td>\n      <td>1</td>\n      <td>0</td>\n      <td>0</td>\n      <td>1</td>\n      <td>0</td>\n      <td>0</td>\n      <td>0</td>\n      <td>0</td>\n      <td>...</td>\n      <td>0</td>\n      <td>1</td>\n      <td>0</td>\n      <td>0</td>\n      <td>1</td>\n      <td>0</td>\n      <td>0</td>\n      <td>0</td>\n      <td>0</td>\n      <td>2017</td>\n    </tr>\n  </tbody>\n</table>\n<p>5 rows × 40 columns</p>\n</div>"
     },
     "execution_count": 364,
     "metadata": {},
     "output_type": "execute_result"
    }
   ],
   "source": [
    "oversample = il.over_sampling.SMOTE(k_neighbors=20)\n",
    "\n",
    "main_cols = all_data.columns.difference(['uniqueid', 'bank_account'])\n",
    "x, y = train_df[main_cols], train_df['bank_account']\n",
    "x, y = oversample.fit_resample(x, y)\n",
    "# lets take a look now\n",
    "\n",
    "# Split data into train and test sets\n",
    "x_train, x_test, y_train, y_test = train_test_split(x, y, test_size=0.26, random_state=42)\n",
    "x_train.head()"
   ],
   "metadata": {
    "collapsed": false,
    "pycharm": {
     "name": "#%%\n"
    }
   }
  },
  {
   "cell_type": "markdown",
   "source": [
    "### Show Data balancing result on target distribution\n",
    "\n",
    "Now that the data is balanced we can plot the distribution of the SMOTE effect."
   ],
   "metadata": {
    "collapsed": false,
    "pycharm": {
     "name": "#%% md\n"
    }
   }
  },
  {
   "cell_type": "code",
   "execution_count": 365,
   "outputs": [
    {
     "data": {
      "text/plain": "<Figure size 432x288 with 1 Axes>",
      "image/png": "[encoded data removed]"
     },
     "metadata": {
      "needs_background": "light"
     },
     "output_type": "display_data"
    }
   ],
   "source": [
    "xx_set = x.copy()\n",
    "xx_set['bank_account'] = y\n",
    "sns.countplot(xx_set.bank_account)\n",
    "plt.title('Target Distribution', fontdict={'size':14});"
   ],
   "metadata": {
    "collapsed": false,
    "pycharm": {
     "name": "#%%\n"
    }
   }
  },
  {
   "cell_type": "markdown",
   "source": [
    "### Feature Reduction\n",
    "\n",
    "We now determine the more important features by regressing the features using a bagging tree\n",
    "and then get the top 10 features"
   ],
   "metadata": {
    "collapsed": false,
    "pycharm": {
     "name": "#%% md\n"
    }
   }
  },
  {
   "cell_type": "code",
   "execution_count": 366,
   "outputs": [
    {
     "data": {
      "text/plain": "                                  names  feature_importance\n1                   cellphone_access_No            0.160992\n9     education_level_Primary education            0.126019\n0                     age_of_respondent            0.123506\n7   education_level_No formal education            0.111817\n15                       household_size            0.057486\n10  education_level_Secondary education            0.051608\n14            gender_of_respondent_Male            0.032566\n26                  location_type_Rural            0.030940\n17         job_type_Farming and Fishing            0.026546\n13          gender_of_respondent_Female            0.025785\n27                  location_type_Urban            0.022357\n21         job_type_Informally employed            0.021890\n24        job_type_Remittance Dependent            0.020716\n25               job_type_Self employed            0.020085\n6                        country_Uganda            0.015654\n5                      country_Tanzania            0.014363\n31  marital_status_Single/Never Married            0.011866\n2                  cellphone_access_Yes            0.011172\n4                        country_Rwanda            0.010783\n19   job_type_Formally employed Private            0.010083",
      "text/html": "<div>\n<style scoped>\n    .dataframe tbody tr th:only-of-type {\n        vertical-align: middle;\n    }\n\n    .dataframe tbody tr th {\n        vertical-align: top;\n    }\n\n    .dataframe thead th {\n        text-align: right;\n    }\n</style>\n<table border=\"1\" class=\"dataframe\">\n  <thead>\n    <tr style=\"text-align: right;\">\n      <th></th>\n      <th>names</th>\n      <th>feature_importance</th>\n    </tr>\n  </thead>\n  <tbody>\n    <tr>\n      <th>1</th>\n      <td>cellphone_access_No</td>\n      <td>0.160992</td>\n    </tr>\n    <tr>\n      <th>9</th>\n      <td>education_level_Primary education</td>\n      <td>0.126019</td>\n    </tr>\n    <tr>\n      <th>0</th>\n      <td>age_of_respondent</td>\n      <td>0.123506</td>\n    </tr>\n    <tr>\n      <th>7</th>\n      <td>education_level_No formal education</td>\n      <td>0.111817</td>\n    </tr>\n    <tr>\n      <th>15</th>\n      <td>household_size</td>\n      <td>0.057486</td>\n    </tr>\n    <tr>\n      <th>10</th>\n      <td>education_level_Secondary education</td>\n      <td>0.051608</td>\n    </tr>\n    <tr>\n      <th>14</th>\n      <td>gender_of_respondent_Male</td>\n      <td>0.032566</td>\n    </tr>\n    <tr>\n      <th>26</th>\n      <td>location_type_Rural</td>\n      <td>0.030940</td>\n    </tr>\n    <tr>\n      <th>17</th>\n      <td>job_type_Farming and Fishing</td>\n      <td>0.026546</td>\n    </tr>\n    <tr>\n      <th>13</th>\n      <td>gender_of_respondent_Female</td>\n      <td>0.025785</td>\n    </tr>\n    <tr>\n      <th>27</th>\n      <td>location_type_Urban</td>\n      <td>0.022357</td>\n    </tr>\n    <tr>\n      <th>21</th>\n      <td>job_type_Informally employed</td>\n      <td>0.021890</td>\n    </tr>\n    <tr>\n      <th>24</th>\n      <td>job_type_Remittance Dependent</td>\n      <td>0.020716</td>\n    </tr>\n    <tr>\n      <th>25</th>\n      <td>job_type_Self employed</td>\n      <td>0.020085</td>\n    </tr>\n    <tr>\n      <th>6</th>\n      <td>country_Uganda</td>\n      <td>0.015654</td>\n    </tr>\n    <tr>\n      <th>5</th>\n      <td>country_Tanzania</td>\n      <td>0.014363</td>\n    </tr>\n    <tr>\n      <th>31</th>\n      <td>marital_status_Single/Never Married</td>\n      <td>0.011866</td>\n    </tr>\n    <tr>\n      <th>2</th>\n      <td>cellphone_access_Yes</td>\n      <td>0.011172</td>\n    </tr>\n    <tr>\n      <th>4</th>\n      <td>country_Rwanda</td>\n      <td>0.010783</td>\n    </tr>\n    <tr>\n      <th>19</th>\n      <td>job_type_Formally employed Private</td>\n      <td>0.010083</td>\n    </tr>\n  </tbody>\n</table>\n</div>"
     },
     "execution_count": 366,
     "metadata": {},
     "output_type": "execute_result"
    }
   ],
   "source": [
    "model_bagging = BaggingRegressor(n_estimators=250)\n",
    "model_bagging.fit(x_train, y_train)\n",
    "\n",
    "# from the regressor we then get the most important features\n",
    "feature_importance = np.mean([\n",
    "    tree.feature_importances_ for tree in model_bagging.estimators_\n",
    "], axis=0)\n",
    "columns = pd.DataFrame()\n",
    "columns['names'] = pd.Series(x.columns)\n",
    "columns['feature_importance'] = pd.Series(feature_importance)\n",
    "\n",
    "sorted_features = columns.sort_values(['feature_importance'], ascending=False)\n",
    "\n",
    "selected_features = sorted_features.head(20)\n",
    "selected_features.head(20)"
   ],
   "metadata": {
    "collapsed": false,
    "pycharm": {
     "name": "#%%\n"
    }
   }
  },
  {
   "cell_type": "markdown",
   "source": [
    "Above is our selected feature set, the first dozen anyway. We can now filter the features to our\n",
    "original feature set and generate the final training and test set for our model."
   ],
   "metadata": {
    "collapsed": false
   }
  },
  {
   "cell_type": "code",
   "execution_count": 367,
   "outputs": [
    {
     "data": {
      "text/plain": "       cellphone_access_No  education_level_Primary education  \\\n20836                    1                                  0   \n26232                    0                                  0   \n39710                    0                                  0   \n8314                     0                                  0   \n14308                    1                                  1   \n\n       age_of_respondent  education_level_No formal education  household_size  \\\n20836                 16                                    0               2   \n26232                 31                                    0               4   \n39710                 49                                    0               6   \n8314                  45                                    0               4   \n14308                 54                                    0               3   \n\n       education_level_Secondary education  gender_of_respondent_Male  \\\n20836                                    1                          1   \n26232                                    1                          1   \n39710                                    0                          1   \n8314                                     1                          1   \n14308                                    0                          0   \n\n       location_type_Rural  job_type_Farming and Fishing  \\\n20836                    1                             0   \n26232                    0                             0   \n39710                    1                             0   \n8314                     1                             1   \n14308                    1                             1   \n\n       gender_of_respondent_Female  location_type_Urban  \\\n20836                            0                    0   \n26232                            0                    0   \n39710                            0                    0   \n8314                             0                    0   \n14308                            1                    0   \n\n       job_type_Informally employed  job_type_Remittance Dependent  \\\n20836                             0                              0   \n26232                             0                              0   \n39710                             0                              0   \n8314                              0                              0   \n14308                             0                              0   \n\n       job_type_Self employed  country_Uganda  country_Tanzania  \\\n20836                       0               0                 1   \n26232                       0               0                 0   \n39710                       0               0                 0   \n8314                        0               0                 0   \n14308                       0               0                 0   \n\n       marital_status_Single/Never Married  cellphone_access_Yes  \\\n20836                                    0                     0   \n26232                                    0                     1   \n39710                                    0                     1   \n8314                                     0                     1   \n14308                                    0                     0   \n\n       country_Rwanda  job_type_Formally employed Private  \n20836               0                                   0  \n26232               0                                   0  \n39710               0                                   0  \n8314                1                                   0  \n14308               1                                   0  ",
      "text/html": "<div>\n<style scoped>\n    .dataframe tbody tr th:only-of-type {\n        vertical-align: middle;\n    }\n\n    .dataframe tbody tr th {\n        vertical-align: top;\n    }\n\n    .dataframe thead th {\n        text-align: right;\n    }\n</style>\n<table border=\"1\" class=\"dataframe\">\n  <thead>\n    <tr style=\"text-align: right;\">\n      <th></th>\n      <th>cellphone_access_No</th>\n      <th>education_level_Primary education</th>\n      <th>age_of_respondent</th>\n      <th>education_level_No formal education</th>\n      <th>household_size</th>\n      <th>education_level_Secondary education</th>\n      <th>gender_of_respondent_Male</th>\n      <th>location_type_Rural</th>\n      <th>job_type_Farming and Fishing</th>\n      <th>gender_of_respondent_Female</th>\n      <th>location_type_Urban</th>\n      <th>job_type_Informally employed</th>\n      <th>job_type_Remittance Dependent</th>\n      <th>job_type_Self employed</th>\n      <th>country_Uganda</th>\n      <th>country_Tanzania</th>\n      <th>marital_status_Single/Never Married</th>\n      <th>cellphone_access_Yes</th>\n      <th>country_Rwanda</th>\n      <th>job_type_Formally employed Private</th>\n    </tr>\n  </thead>\n  <tbody>\n    <tr>\n      <th>20836</th>\n      <td>1</td>\n      <td>0</td>\n      <td>16</td>\n      <td>0</td>\n      <td>2</td>\n      <td>1</td>\n      <td>1</td>\n      <td>1</td>\n      <td>0</td>\n      <td>0</td>\n      <td>0</td>\n      <td>0</td>\n      <td>0</td>\n      <td>0</td>\n      <td>0</td>\n      <td>1</td>\n      <td>0</td>\n      <td>0</td>\n      <td>0</td>\n      <td>0</td>\n    </tr>\n    <tr>\n      <th>26232</th>\n      <td>0</td>\n      <td>0</td>\n      <td>31</td>\n      <td>0</td>\n      <td>4</td>\n      <td>1</td>\n      <td>1</td>\n      <td>0</td>\n      <td>0</td>\n      <td>0</td>\n      <td>0</td>\n      <td>0</td>\n      <td>0</td>\n      <td>0</td>\n      <td>0</td>\n      <td>0</td>\n      <td>0</td>\n      <td>1</td>\n      <td>0</td>\n      <td>0</td>\n    </tr>\n    <tr>\n      <th>39710</th>\n      <td>0</td>\n      <td>0</td>\n      <td>49</td>\n      <td>0</td>\n      <td>6</td>\n      <td>0</td>\n      <td>1</td>\n      <td>1</td>\n      <td>0</td>\n      <td>0</td>\n      <td>0</td>\n      <td>0</td>\n      <td>0</td>\n      <td>0</td>\n      <td>0</td>\n      <td>0</td>\n      <td>0</td>\n      <td>1</td>\n      <td>0</td>\n      <td>0</td>\n    </tr>\n    <tr>\n      <th>8314</th>\n      <td>0</td>\n      <td>0</td>\n      <td>45</td>\n      <td>0</td>\n      <td>4</td>\n      <td>1</td>\n      <td>1</td>\n      <td>1</td>\n      <td>1</td>\n      <td>0</td>\n      <td>0</td>\n      <td>0</td>\n      <td>0</td>\n      <td>0</td>\n      <td>0</td>\n      <td>0</td>\n      <td>0</td>\n      <td>1</td>\n      <td>1</td>\n      <td>0</td>\n    </tr>\n    <tr>\n      <th>14308</th>\n      <td>1</td>\n      <td>1</td>\n      <td>54</td>\n      <td>0</td>\n      <td>3</td>\n      <td>0</td>\n      <td>0</td>\n      <td>1</td>\n      <td>1</td>\n      <td>1</td>\n      <td>0</td>\n      <td>0</td>\n      <td>0</td>\n      <td>0</td>\n      <td>0</td>\n      <td>0</td>\n      <td>0</td>\n      <td>0</td>\n      <td>1</td>\n      <td>0</td>\n    </tr>\n  </tbody>\n</table>\n</div>"
     },
     "execution_count": 367,
     "metadata": {},
     "output_type": "execute_result"
    }
   ],
   "source": [
    "cols = selected_features['names'].to_numpy().tolist()\n",
    "\n",
    "sx, sy = x[cols], y\n",
    "sx_train, sx_test, sy_train, sy_test = train_test_split(sx, sy, test_size=0.25)\n",
    "sx_train.head()"
   ],
   "metadata": {
    "collapsed": false,
    "pycharm": {
     "name": "#%%\n"
    }
   }
  },
  {
   "cell_type": "markdown",
   "source": [
    "### Modelling & Hyperparameter Optimization\n",
    "\n",
    "We now start modelling and training. Our model of choice as specified in the imports is the XGBoost\n",
    "model. We choose this model because of its proficiency in accuracy.\n",
    "\n",
    "We also define an optimization function, we will only have run it once because of the time it takes.\n",
    "We optimize using a random search algorithm that takes a hyperparameter space it will try to\n",
    "optimize."
   ],
   "metadata": {
    "collapsed": false,
    "pycharm": {
     "name": "#%% md\n"
    }
   }
  },
  {
   "cell_type": "code",
   "execution_count": 368,
   "outputs": [],
   "source": [
    "def modeller(params):\n",
    "    model = XGBClassifier(learning_rate = params[0],\n",
    "                            n_estimators = params[1],\n",
    "                            max_depth = params[2],\n",
    "                            min_child_weight = params[3],\n",
    "                            gamma = params[4],\n",
    "                            subsample = params[5],\n",
    "                            colsample_bytree = params[6],\n",
    "                            seed = 42,\n",
    "                            verbosity=0)\n",
    "    auc = cross_val_score(model, x_train, y_train, cv = 10, scoring = 'roc_auc')\n",
    "    print(auc.mean())\n",
    "    return -auc.mean()\n",
    "\n",
    "# then we define a tuning space for our random forest algo to optimize in\n",
    "space = [(1e-3, 1e-1, 'log-uniform'), # learning rate\n",
    "          (100, 2400), # n_estimators\n",
    "          (1, 64), # max_depth\n",
    "          (1, 6.), # min_child_weight\n",
    "          (0, 0.5), # gamma\n",
    "          (0.1, 1.), # subsample\n",
    "          (0.1, 1.)] # colsample_bytree\n",
    "# then we optimize\n",
    "result = [0.014, 3600, 80, 6., 0.01297998739050575, 0.6336707906620142, 0.1859693229517501]\n",
    "# result = forest_minimize(modeller, space, random_state = 42, n_random_starts = 20, n_calls  = 20, verbose = 1).x\n",
    "# print(result)"
   ],
   "metadata": {
    "collapsed": false,
    "pycharm": {
     "name": "#%%\n"
    }
   }
  },
  {
   "cell_type": "markdown",
   "source": [
    "### Training & Prediction\n",
    "\n",
    "With the hyper-parameters optimized above we can then instantiate our model and train it. We will\n",
    "then print the accuracy we get out."
   ],
   "metadata": {
    "collapsed": false
   }
  },
  {
   "cell_type": "code",
   "execution_count": 369,
   "outputs": [
    {
     "name": "stdout",
     "output_type": "stream",
     "text": [
      "XGBoost model accuracy score: 90.52%\n",
      "XGBoost model F1 score: 90.46%\n"
     ]
    }
   ],
   "source": [
    "model = XGBClassifier(learning_rate = result[0],\n",
    "                        n_estimators = result[1],\n",
    "                        max_depth = result[2],\n",
    "                        min_child_weight = result[3],\n",
    "                        gamma = result[4],\n",
    "                        subsample = result[5],\n",
    "                        colsample_bytree = result[6],\n",
    "                        eval_metric='logloss',\n",
    "                        seed = 42)\n",
    "\n",
    "eval_s = [(sx, sy), (sx_test, sy_test)]\n",
    "model.fit(sx_train, sy_train, eval_set=eval_s, verbose=0)\n",
    "\n",
    "y_pred = model.predict(sx_test)\n",
    "\n",
    "print(f'XGBoost model accuracy score: {round(accuracy_score(y_pred, sy_test) * 100, 2)}%')\n",
    "print(f'XGBoost model F1 score: {round(f1_score(y_pred, sy_test) * 100, 2)}%')\n",
    "# Make prediction on the test set\n",
    "\n",
    "test_df['bank_account'] = model.predict(test_df[cols])\n",
    "test_df['bank_account'] = test_df['bank_account'].astype(int)"
   ],
   "metadata": {
    "collapsed": false,
    "pycharm": {
     "name": "#%%\n"
    }
   }
  },
  {
   "cell_type": "markdown",
   "source": [
    "### Monitoring Learning Rate\n",
    "\n",
    "Before anything we will display some of the metrics needed to further tune and monitor the model\n",
    "we have iteratively."
   ],
   "metadata": {
    "collapsed": false
   }
  },
  {
   "cell_type": "code",
   "execution_count": 370,
   "outputs": [
    {
     "data": {
      "text/plain": "<Figure size 432x288 with 1 Axes>",
      "image/png": "[encoded data removed]"
     },
     "metadata": {
      "needs_background": "light"
     },
     "output_type": "display_data"
    }
   ],
   "source": [
    "results = model.evals_result()\n",
    "# files.download('Baseline.csv')\n",
    "plt.plot(results['validation_0']['logloss'], label='train')\n",
    "plt.plot(results['validation_1']['logloss'], label='test')\n",
    "# show the legend\n",
    "plt.legend()\n",
    "# show the plot\n",
    "plt.show()"
   ],
   "metadata": {
    "collapsed": false,
    "pycharm": {
     "name": "#%%\n"
    }
   }
  },
  {
   "cell_type": "markdown",
   "source": [
    "### Create Submission File\n",
    "\n",
    "We create our submission file as per the submission template provided."
   ],
   "metadata": {
    "collapsed": false,
    "pycharm": {
     "name": "#%% md\n"
    }
   }
  },
  {
   "cell_type": "code",
   "execution_count": 371,
   "outputs": [],
   "source": [
    "# Create a submission file\n",
    "sub_file = test_df.copy()\n",
    "\n",
    "def country(df):\n",
    "    if df['country_Kenya'] == 1:\n",
    "        return 'Kenya'\n",
    "    elif df['country_Rwanda'] == 1:\n",
    "        return 'Rwanda'\n",
    "    elif df['country_Uganda'] == 1:\n",
    "        return 'Uganda'\n",
    "    else: return 'Tanzania'\n",
    "\n",
    "sub_file['unique_id'] = sub_file.apply(lambda k: f'{k[\"uniqueid\"]} x {country(k)}', axis=1)\n",
    "sub_file = sub_file.filter(['unique_id', 'bank_account'], axis=1)\n",
    "\n",
    "# Create a csv file and upload to zindi\n",
    "sub_file.to_csv('baseline.csv', index = False)\n",
    "# files.download('baseline.csv')\n"
   ],
   "metadata": {
    "collapsed": false,
    "pycharm": {
     "name": "#%%\n"
    }
   }
  },
  {
   "cell_type": "markdown",
   "source": [
    "### Reccomendations"
   ],
   "metadata": {
    "collapsed": false,
    "pycharm": {
     "name": "#%% md\n"
    }
   }
  }
 ],
 "metadata": {
  "kernelspec": {
   "display_name": "Python 3",
   "language": "python",
   "name": "python3"
  },
  "language_info": {
   "codemirror_mode": {
    "name": "ipython",
    "version": 2
   },
   "file_extension": ".py",
   "mimetype": "text/x-python",
   "name": "python",
   "nbconvert_exporter": "python",
   "pygments_lexer": "ipython2",
   "version": "2.7.6"
  }
 },
 "nbformat": 4,
 "nbformat_minor": 0
}