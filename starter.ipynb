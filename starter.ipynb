{
 "nbformat": 4,
 "nbformat_minor": 0,
 "metadata": {
  "kernelspec": {
   "display_name": "Python 3",
   "language": "python",
   "name": "python3"
  },
  "language_info": {
   "codemirror_mode": {
    "name": "ipython",
    "version": 3
   },
   "file_extension": ".py",
   "mimetype": "text/x-python",
   "name": "python",
   "nbconvert_exporter": "python",
   "pygments_lexer": "ipython3",
   "version": "3.7.3"
  },
  "colab": {
   "name": "StarterNotebook.ipynb",
   "provenance": [],
   "collapsed_sections": []
  }
 },
 "cells": [
  {
   "cell_type": "markdown",
   "metadata": {
    "id": "48S6RVt_jXwp"
   },
   "source": [
    "# Financial Inclusion in Africa Starter Notebook\n",
    "\n",
    "\n",
    "This is a simple starter notebook to get started with the Machine Learning for Financial Inclusion by University of Eswatini on Zindi.\n",
    "\n",
    "This notebook covers:\n",
    "- Loading the data\n",
    "- Simple EDA and an example of feature enginnering\n",
    "- Data preprocessing and data wrangling\n",
    "- Creating a simple model\n",
    "- Making a submission\n",
    "- Some tips for improving your score"
   ]
  },
  {
   "cell_type": "markdown",
   "metadata": {
    "id": "HdPjBTFdkI7t"
   },
   "source": [
    "### Importing libraries"
   ]
  },
  {
   "cell_type": "code",
   "metadata": {
    "id": "8IWFJK2h22yc"
   },
   "source": [
    "# dataframe and plotting\n",
    "import pandas as pd\n",
    "import numpy as np\n",
    "import seaborn as sns\n",
    "import matplotlib.pyplot as plt\n",
    "\n",
    "# machine learning\n",
    "from lightgbm import LGBMClassifier\n",
    "from sklearn.model_selection import train_test_split\n",
    "from sklearn.metrics import accuracy_score\n",
    "\n",
    "import warnings\n",
    "warnings.filterwarnings('ignore')"
   ],
   "execution_count": 1,
   "outputs": []
  },
  {
   "cell_type": "markdown",
   "metadata": {
    "id": "9SyQadB9iY8R"
   },
   "source": [
    "### Read files"
   ]
  },
  {
   "cell_type": "code",
   "metadata": {
    "id": "MQCvC_XjDzyH"
   },
   "source": [
    "# Load files into a pandas dataframe\n",
    "train = pd.read_csv('./assets/train.csv')\n",
    "test = pd.read_csv('./assets/test.csv')\n",
    "ss = pd.read_csv('./assets/submission.csv')\n",
    "variables = pd.read_csv('./assets/definitions.csv')"
   ],
   "execution_count": 2,
   "outputs": []
  },
  {
   "cell_type": "markdown",
   "metadata": {
    "id": "MCP0H7tSicUU"
   },
   "source": [
    "### Some basic EDA"
   ]
  },
  {
   "cell_type": "code",
   "metadata": {
    "colab": {
     "base_uri": "https://localhost:8080/",
     "height": 421
    },
    "id": "8D-b3rTKAbmq",
    "outputId": "d8853b2d-c57d-4f79-ac0e-8fd9d5450a1c"
   },
   "source": [
    "# Let's view the variables\n",
    "variables"
   ],
   "execution_count": 3,
   "outputs": [
    {
     "data": {
      "text/plain": "      Variable Definitions                                         Unnamed: 1\n0                  country                         Country interviewee is in.\n1                     year                           Year survey was done in.\n2                 uniqueid             Unique identifier for each interviewee\n3            location_type                     Type of location: Rural, Urban\n4         cellphone_access  If interviewee has access to a cellphone: Yes, No\n5           household_size               Number of people living in one house\n6        age_of_respondent                         The age of the interviewee\n7     gender_of_respondent                Gender of interviewee: Male, Female\n8   relationship_with_head  The interviewee’s relationship with the head o...\n9           marital_status  The martial status of the interviewee: Married...\n10         education_level  Highest level of education: No formal educatio...\n11                job_type  Type of job interviewee has: Farming and Fishi...",
      "text/html": "<div>\n<style scoped>\n    .dataframe tbody tr th:only-of-type {\n        vertical-align: middle;\n    }\n\n    .dataframe tbody tr th {\n        vertical-align: top;\n    }\n\n    .dataframe thead th {\n        text-align: right;\n    }\n</style>\n<table border=\"1\" class=\"dataframe\">\n  <thead>\n    <tr style=\"text-align: right;\">\n      <th></th>\n      <th>Variable Definitions</th>\n      <th>Unnamed: 1</th>\n    </tr>\n  </thead>\n  <tbody>\n    <tr>\n      <th>0</th>\n      <td>country</td>\n      <td>Country interviewee is in.</td>\n    </tr>\n    <tr>\n      <th>1</th>\n      <td>year</td>\n      <td>Year survey was done in.</td>\n    </tr>\n    <tr>\n      <th>2</th>\n      <td>uniqueid</td>\n      <td>Unique identifier for each interviewee</td>\n    </tr>\n    <tr>\n      <th>3</th>\n      <td>location_type</td>\n      <td>Type of location: Rural, Urban</td>\n    </tr>\n    <tr>\n      <th>4</th>\n      <td>cellphone_access</td>\n      <td>If interviewee has access to a cellphone: Yes, No</td>\n    </tr>\n    <tr>\n      <th>5</th>\n      <td>household_size</td>\n      <td>Number of people living in one house</td>\n    </tr>\n    <tr>\n      <th>6</th>\n      <td>age_of_respondent</td>\n      <td>The age of the interviewee</td>\n    </tr>\n    <tr>\n      <th>7</th>\n      <td>gender_of_respondent</td>\n      <td>Gender of interviewee: Male, Female</td>\n    </tr>\n    <tr>\n      <th>8</th>\n      <td>relationship_with_head</td>\n      <td>The interviewee’s relationship with the head o...</td>\n    </tr>\n    <tr>\n      <th>9</th>\n      <td>marital_status</td>\n      <td>The martial status of the interviewee: Married...</td>\n    </tr>\n    <tr>\n      <th>10</th>\n      <td>education_level</td>\n      <td>Highest level of education: No formal educatio...</td>\n    </tr>\n    <tr>\n      <th>11</th>\n      <td>job_type</td>\n      <td>Type of job interviewee has: Farming and Fishi...</td>\n    </tr>\n  </tbody>\n</table>\n</div>"
     },
     "execution_count": 3,
     "metadata": {},
     "output_type": "execute_result"
    }
   ]
  },
  {
   "cell_type": "code",
   "metadata": {
    "id": "Mcqp5mXG22ye",
    "colab": {
     "base_uri": "https://localhost:8080/",
     "height": 326
    },
    "outputId": "6cfd6bc2-5cb4-4e9b-fc7c-ef2e506dd04f"
   },
   "source": [
    "# Preview the first five rows of the train set\n",
    "train.head()"
   ],
   "execution_count": 4,
   "outputs": [
    {
     "data": {
      "text/plain": "  country  year    uniqueid bank_account location_type cellphone_access  \\\n0   Kenya  2018  uniqueid_1          Yes         Rural              Yes   \n1   Kenya  2018  uniqueid_2           No         Rural               No   \n2   Kenya  2018  uniqueid_3          Yes         Urban              Yes   \n3   Kenya  2018  uniqueid_4           No         Rural              Yes   \n4   Kenya  2018  uniqueid_5           No         Urban               No   \n\n   household_size  age_of_respondent gender_of_respondent  \\\n0               3                 24               Female   \n1               5                 70               Female   \n2               5                 26                 Male   \n3               5                 34               Female   \n4               8                 26                 Male   \n\n  relationship_with_head           marital_status  \\\n0                 Spouse  Married/Living together   \n1      Head of Household                  Widowed   \n2         Other relative     Single/Never Married   \n3      Head of Household  Married/Living together   \n4                  Child     Single/Never Married   \n\n                   education_level                   job_type  \n0              Secondary education              Self employed  \n1              No formal education       Government Dependent  \n2  Vocational/Specialised training              Self employed  \n3                Primary education  Formally employed Private  \n4                Primary education        Informally employed  ",
      "text/html": "<div>\n<style scoped>\n    .dataframe tbody tr th:only-of-type {\n        vertical-align: middle;\n    }\n\n    .dataframe tbody tr th {\n        vertical-align: top;\n    }\n\n    .dataframe thead th {\n        text-align: right;\n    }\n</style>\n<table border=\"1\" class=\"dataframe\">\n  <thead>\n    <tr style=\"text-align: right;\">\n      <th></th>\n      <th>country</th>\n      <th>year</th>\n      <th>uniqueid</th>\n      <th>bank_account</th>\n      <th>location_type</th>\n      <th>cellphone_access</th>\n      <th>household_size</th>\n      <th>age_of_respondent</th>\n      <th>gender_of_respondent</th>\n      <th>relationship_with_head</th>\n      <th>marital_status</th>\n      <th>education_level</th>\n      <th>job_type</th>\n    </tr>\n  </thead>\n  <tbody>\n    <tr>\n      <th>0</th>\n      <td>Kenya</td>\n      <td>2018</td>\n      <td>uniqueid_1</td>\n      <td>Yes</td>\n      <td>Rural</td>\n      <td>Yes</td>\n      <td>3</td>\n      <td>24</td>\n      <td>Female</td>\n      <td>Spouse</td>\n      <td>Married/Living together</td>\n      <td>Secondary education</td>\n      <td>Self employed</td>\n    </tr>\n    <tr>\n      <th>1</th>\n      <td>Kenya</td>\n      <td>2018</td>\n      <td>uniqueid_2</td>\n      <td>No</td>\n      <td>Rural</td>\n      <td>No</td>\n      <td>5</td>\n      <td>70</td>\n      <td>Female</td>\n      <td>Head of Household</td>\n      <td>Widowed</td>\n      <td>No formal education</td>\n      <td>Government Dependent</td>\n    </tr>\n    <tr>\n      <th>2</th>\n      <td>Kenya</td>\n      <td>2018</td>\n      <td>uniqueid_3</td>\n      <td>Yes</td>\n      <td>Urban</td>\n      <td>Yes</td>\n      <td>5</td>\n      <td>26</td>\n      <td>Male</td>\n      <td>Other relative</td>\n      <td>Single/Never Married</td>\n      <td>Vocational/Specialised training</td>\n      <td>Self employed</td>\n    </tr>\n    <tr>\n      <th>3</th>\n      <td>Kenya</td>\n      <td>2018</td>\n      <td>uniqueid_4</td>\n      <td>No</td>\n      <td>Rural</td>\n      <td>Yes</td>\n      <td>5</td>\n      <td>34</td>\n      <td>Female</td>\n      <td>Head of Household</td>\n      <td>Married/Living together</td>\n      <td>Primary education</td>\n      <td>Formally employed Private</td>\n    </tr>\n    <tr>\n      <th>4</th>\n      <td>Kenya</td>\n      <td>2018</td>\n      <td>uniqueid_5</td>\n      <td>No</td>\n      <td>Urban</td>\n      <td>No</td>\n      <td>8</td>\n      <td>26</td>\n      <td>Male</td>\n      <td>Child</td>\n      <td>Single/Never Married</td>\n      <td>Primary education</td>\n      <td>Informally employed</td>\n    </tr>\n  </tbody>\n</table>\n</div>"
     },
     "execution_count": 4,
     "metadata": {},
     "output_type": "execute_result"
    }
   ]
  },
  {
   "cell_type": "code",
   "metadata": {
    "id": "XADqPrMo22yf",
    "colab": {
     "base_uri": "https://localhost:8080/",
     "height": 343
    },
    "outputId": "d9f3eb20-8898-4b2c-fdb5-e72bd56dc9cb"
   },
   "source": [
    "# Preview the first five rows of the test set\n",
    "test.head()"
   ],
   "execution_count": 5,
   "outputs": [
    {
     "data": {
      "text/plain": "  country  year       uniqueid location_type cellphone_access  household_size  \\\n0   Kenya  2018  uniqueid_6056         Urban              Yes               3   \n1   Kenya  2018  uniqueid_6060         Urban              Yes               7   \n2   Kenya  2018  uniqueid_6065         Rural               No               3   \n3   Kenya  2018  uniqueid_6072         Rural               No               6   \n4   Kenya  2018  uniqueid_6073         Urban               No               3   \n\n   age_of_respondent gender_of_respondent relationship_with_head  \\\n0                 30                 Male      Head of Household   \n1                 51                 Male      Head of Household   \n2                 77               Female                 Parent   \n3                 39               Female      Head of Household   \n4                 16                 Male                  Child   \n\n            marital_status                  education_level  \\\n0  Married/Living together              Secondary education   \n1  Married/Living together  Vocational/Specialised training   \n2  Married/Living together              No formal education   \n3  Married/Living together                Primary education   \n4     Single/Never Married              Secondary education   \n\n                       job_type  \n0  Formally employed Government  \n1     Formally employed Private  \n2          Remittance Dependent  \n3          Remittance Dependent  \n4          Remittance Dependent  ",
      "text/html": "<div>\n<style scoped>\n    .dataframe tbody tr th:only-of-type {\n        vertical-align: middle;\n    }\n\n    .dataframe tbody tr th {\n        vertical-align: top;\n    }\n\n    .dataframe thead th {\n        text-align: right;\n    }\n</style>\n<table border=\"1\" class=\"dataframe\">\n  <thead>\n    <tr style=\"text-align: right;\">\n      <th></th>\n      <th>country</th>\n      <th>year</th>\n      <th>uniqueid</th>\n      <th>location_type</th>\n      <th>cellphone_access</th>\n      <th>household_size</th>\n      <th>age_of_respondent</th>\n      <th>gender_of_respondent</th>\n      <th>relationship_with_head</th>\n      <th>marital_status</th>\n      <th>education_level</th>\n      <th>job_type</th>\n    </tr>\n  </thead>\n  <tbody>\n    <tr>\n      <th>0</th>\n      <td>Kenya</td>\n      <td>2018</td>\n      <td>uniqueid_6056</td>\n      <td>Urban</td>\n      <td>Yes</td>\n      <td>3</td>\n      <td>30</td>\n      <td>Male</td>\n      <td>Head of Household</td>\n      <td>Married/Living together</td>\n      <td>Secondary education</td>\n      <td>Formally employed Government</td>\n    </tr>\n    <tr>\n      <th>1</th>\n      <td>Kenya</td>\n      <td>2018</td>\n      <td>uniqueid_6060</td>\n      <td>Urban</td>\n      <td>Yes</td>\n      <td>7</td>\n      <td>51</td>\n      <td>Male</td>\n      <td>Head of Household</td>\n      <td>Married/Living together</td>\n      <td>Vocational/Specialised training</td>\n      <td>Formally employed Private</td>\n    </tr>\n    <tr>\n      <th>2</th>\n      <td>Kenya</td>\n      <td>2018</td>\n      <td>uniqueid_6065</td>\n      <td>Rural</td>\n      <td>No</td>\n      <td>3</td>\n      <td>77</td>\n      <td>Female</td>\n      <td>Parent</td>\n      <td>Married/Living together</td>\n      <td>No formal education</td>\n      <td>Remittance Dependent</td>\n    </tr>\n    <tr>\n      <th>3</th>\n      <td>Kenya</td>\n      <td>2018</td>\n      <td>uniqueid_6072</td>\n      <td>Rural</td>\n      <td>No</td>\n      <td>6</td>\n      <td>39</td>\n      <td>Female</td>\n      <td>Head of Household</td>\n      <td>Married/Living together</td>\n      <td>Primary education</td>\n      <td>Remittance Dependent</td>\n    </tr>\n    <tr>\n      <th>4</th>\n      <td>Kenya</td>\n      <td>2018</td>\n      <td>uniqueid_6073</td>\n      <td>Urban</td>\n      <td>No</td>\n      <td>3</td>\n      <td>16</td>\n      <td>Male</td>\n      <td>Child</td>\n      <td>Single/Never Married</td>\n      <td>Secondary education</td>\n      <td>Remittance Dependent</td>\n    </tr>\n  </tbody>\n</table>\n</div>"
     },
     "execution_count": 5,
     "metadata": {},
     "output_type": "execute_result"
    }
   ]
  },
  {
   "cell_type": "code",
   "metadata": {
    "id": "iwZ0JOrk22yg",
    "colab": {
     "base_uri": "https://localhost:8080/",
     "height": 204
    },
    "outputId": "ab8f0000-542e-43a5-a831-937fc9b6b047"
   },
   "source": [
    "# Preview the first five rows of the sample submission file\n",
    "ss.head()"
   ],
   "execution_count": 6,
   "outputs": [
    {
     "data": {
      "text/plain": "            unique_id  bank_account\n0  uniqueid_1 x Kenya             0\n1  uniqueid_2 x Kenya             0\n2  uniqueid_3 x Kenya             0\n3  uniqueid_4 x Kenya             0\n4  uniqueid_5 x Kenya             0",
      "text/html": "<div>\n<style scoped>\n    .dataframe tbody tr th:only-of-type {\n        vertical-align: middle;\n    }\n\n    .dataframe tbody tr th {\n        vertical-align: top;\n    }\n\n    .dataframe thead th {\n        text-align: right;\n    }\n</style>\n<table border=\"1\" class=\"dataframe\">\n  <thead>\n    <tr style=\"text-align: right;\">\n      <th></th>\n      <th>unique_id</th>\n      <th>bank_account</th>\n    </tr>\n  </thead>\n  <tbody>\n    <tr>\n      <th>0</th>\n      <td>uniqueid_1 x Kenya</td>\n      <td>0</td>\n    </tr>\n    <tr>\n      <th>1</th>\n      <td>uniqueid_2 x Kenya</td>\n      <td>0</td>\n    </tr>\n    <tr>\n      <th>2</th>\n      <td>uniqueid_3 x Kenya</td>\n      <td>0</td>\n    </tr>\n    <tr>\n      <th>3</th>\n      <td>uniqueid_4 x Kenya</td>\n      <td>0</td>\n    </tr>\n    <tr>\n      <th>4</th>\n      <td>uniqueid_5 x Kenya</td>\n      <td>0</td>\n    </tr>\n  </tbody>\n</table>\n</div>"
     },
     "execution_count": 6,
     "metadata": {},
     "output_type": "execute_result"
    }
   ]
  },
  {
   "cell_type": "code",
   "metadata": {
    "colab": {
     "base_uri": "https://localhost:8080/"
    },
    "id": "PpiShcfRIM58",
    "outputId": "4c582207-f858-412d-d3ba-902841b77a06"
   },
   "source": [
    "# Check the shape of the train and test sets\n",
    "print(f'The shape of the train set is: {train.shape}\\nThe shape of the test set is: {test.shape}')"
   ],
   "execution_count": 7,
   "outputs": [
    {
     "name": "stdout",
     "output_type": "stream",
     "text": [
      "The shape of the train set is: (23524, 13)\n",
      "The shape of the test set is: (10086, 12)\n"
     ]
    }
   ]
  },
  {
   "cell_type": "markdown",
   "metadata": {
    "id": "oo9bQICy22yi"
   },
   "source": [
    "## Combine train and test set for easy preprocessing "
   ]
  },
  {
   "cell_type": "code",
   "metadata": {
    "id": "hkQYtG_KLWX_"
   },
   "source": [
    "# mapping the bank account with 0 to NO and 1 to YES\n",
    "train['bank_account'] = train['bank_account'].map({'No':0, 'Yes':1})"
   ],
   "execution_count": 8,
   "outputs": []
  },
  {
   "cell_type": "code",
   "metadata": {
    "id": "LMBnOTvv22yi",
    "colab": {
     "base_uri": "https://localhost:8080/"
    },
    "outputId": "489d3013-bd41-4c41-f21e-24d12188af82"
   },
   "source": [
    "# Combine train and test set\n",
    "ntrain = train.shape[0] # to be used to split train and test set from the combined dataframe\n",
    "\n",
    "all_data = pd.concat((train, test)).reset_index(drop=True)\n",
    "print(f'The shape of the combined dataframe is: {all_data.shape}')"
   ],
   "execution_count": 9,
   "outputs": [
    {
     "name": "stdout",
     "output_type": "stream",
     "text": [
      "The shape of the combined dataframe is: (33610, 13)\n"
     ]
    }
   ]
  },
  {
   "cell_type": "code",
   "metadata": {
    "id": "Enhuekp922yj",
    "colab": {
     "base_uri": "https://localhost:8080/",
     "height": 309
    },
    "outputId": "421c0680-9b00-432b-cb07-4cf7dfbaf8a0"
   },
   "source": [
    "# Preview the last five rows of the combined dataframe\n",
    "all_data.tail()"
   ],
   "execution_count": 10,
   "outputs": [
    {
     "data": {
      "text/plain": "      country  year       uniqueid  bank_account location_type  \\\n33605  Uganda  2018  uniqueid_2998           NaN         Rural   \n33606  Uganda  2018  uniqueid_2999           NaN         Urban   \n33607  Uganda  2018  uniqueid_3000           NaN         Urban   \n33608  Uganda  2018  uniqueid_3001           NaN         Rural   \n33609  Uganda  2018  uniqueid_3002           NaN         Urban   \n\n      cellphone_access  household_size  age_of_respondent  \\\n33605               No               2                 62   \n33606              Yes               8                 42   \n33607              Yes               1                 39   \n33608              Yes               6                 28   \n33609              Yes               7                 16   \n\n      gender_of_respondent relationship_with_head           marital_status  \\\n33605               Female                 Spouse  Married/Living together   \n33606                 Male      Head of Household  Married/Living together   \n33607                 Male      Head of Household     Single/Never Married   \n33608               Female                 Spouse  Married/Living together   \n33609                 Male         Other relative     Single/Never Married   \n\n           education_level       job_type  \n33605    Primary education  Self employed  \n33606    Primary education  Self employed  \n33607  Secondary education   Other Income  \n33608    Primary education  Self employed  \n33609  Secondary education   Other Income  ",
      "text/html": "<div>\n<style scoped>\n    .dataframe tbody tr th:only-of-type {\n        vertical-align: middle;\n    }\n\n    .dataframe tbody tr th {\n        vertical-align: top;\n    }\n\n    .dataframe thead th {\n        text-align: right;\n    }\n</style>\n<table border=\"1\" class=\"dataframe\">\n  <thead>\n    <tr style=\"text-align: right;\">\n      <th></th>\n      <th>country</th>\n      <th>year</th>\n      <th>uniqueid</th>\n      <th>bank_account</th>\n      <th>location_type</th>\n      <th>cellphone_access</th>\n      <th>household_size</th>\n      <th>age_of_respondent</th>\n      <th>gender_of_respondent</th>\n      <th>relationship_with_head</th>\n      <th>marital_status</th>\n      <th>education_level</th>\n      <th>job_type</th>\n    </tr>\n  </thead>\n  <tbody>\n    <tr>\n      <th>33605</th>\n      <td>Uganda</td>\n      <td>2018</td>\n      <td>uniqueid_2998</td>\n      <td>NaN</td>\n      <td>Rural</td>\n      <td>No</td>\n      <td>2</td>\n      <td>62</td>\n      <td>Female</td>\n      <td>Spouse</td>\n      <td>Married/Living together</td>\n      <td>Primary education</td>\n      <td>Self employed</td>\n    </tr>\n    <tr>\n      <th>33606</th>\n      <td>Uganda</td>\n      <td>2018</td>\n      <td>uniqueid_2999</td>\n      <td>NaN</td>\n      <td>Urban</td>\n      <td>Yes</td>\n      <td>8</td>\n      <td>42</td>\n      <td>Male</td>\n      <td>Head of Household</td>\n      <td>Married/Living together</td>\n      <td>Primary education</td>\n      <td>Self employed</td>\n    </tr>\n    <tr>\n      <th>33607</th>\n      <td>Uganda</td>\n      <td>2018</td>\n      <td>uniqueid_3000</td>\n      <td>NaN</td>\n      <td>Urban</td>\n      <td>Yes</td>\n      <td>1</td>\n      <td>39</td>\n      <td>Male</td>\n      <td>Head of Household</td>\n      <td>Single/Never Married</td>\n      <td>Secondary education</td>\n      <td>Other Income</td>\n    </tr>\n    <tr>\n      <th>33608</th>\n      <td>Uganda</td>\n      <td>2018</td>\n      <td>uniqueid_3001</td>\n      <td>NaN</td>\n      <td>Rural</td>\n      <td>Yes</td>\n      <td>6</td>\n      <td>28</td>\n      <td>Female</td>\n      <td>Spouse</td>\n      <td>Married/Living together</td>\n      <td>Primary education</td>\n      <td>Self employed</td>\n    </tr>\n    <tr>\n      <th>33609</th>\n      <td>Uganda</td>\n      <td>2018</td>\n      <td>uniqueid_3002</td>\n      <td>NaN</td>\n      <td>Urban</td>\n      <td>Yes</td>\n      <td>7</td>\n      <td>16</td>\n      <td>Male</td>\n      <td>Other relative</td>\n      <td>Single/Never Married</td>\n      <td>Secondary education</td>\n      <td>Other Income</td>\n    </tr>\n  </tbody>\n</table>\n</div>"
     },
     "execution_count": 10,
     "metadata": {},
     "output_type": "execute_result"
    }
   ]
  },
  {
   "cell_type": "code",
   "metadata": {
    "id": "Zmhi38ur22yj",
    "colab": {
     "base_uri": "https://localhost:8080/"
    },
    "outputId": "ebc4d76c-5074-4082-d567-b49baff1f798"
   },
   "source": [
    "# Check the column names and datatypes\n",
    "all_data.info()"
   ],
   "execution_count": 11,
   "outputs": [
    {
     "name": "stdout",
     "output_type": "stream",
     "text": [
      "<class 'pandas.core.frame.DataFrame'>\n",
      "RangeIndex: 33610 entries, 0 to 33609\n",
      "Data columns (total 13 columns):\n",
      " #   Column                  Non-Null Count  Dtype  \n",
      "---  ------                  --------------  -----  \n",
      " 0   country                 33610 non-null  object \n",
      " 1   year                    33610 non-null  int64  \n",
      " 2   uniqueid                33610 non-null  object \n",
      " 3   bank_account            23524 non-null  float64\n",
      " 4   location_type           33610 non-null  object \n",
      " 5   cellphone_access        33610 non-null  object \n",
      " 6   household_size          33610 non-null  int64  \n",
      " 7   age_of_respondent       33610 non-null  int64  \n",
      " 8   gender_of_respondent    33610 non-null  object \n",
      " 9   relationship_with_head  33610 non-null  object \n",
      " 10  marital_status          33610 non-null  object \n",
      " 11  education_level         33610 non-null  object \n",
      " 12  job_type                33610 non-null  object \n",
      "dtypes: float64(1), int64(3), object(9)\n",
      "memory usage: 3.3+ MB\n"
     ]
    }
   ]
  },
  {
   "cell_type": "markdown",
   "metadata": {
    "id": "pL-uhhyKUHWw"
   },
   "source": [
    "### Distribution of the target variable"
   ]
  },
  {
   "cell_type": "code",
   "metadata": {
    "id": "lYzk7oDe22ym",
    "colab": {
     "base_uri": "https://localhost:8080/",
     "height": 297
    },
    "outputId": "12a66a45-b3b8-4baf-bc03-ae3c7961eef5"
   },
   "source": [
    "sns.countplot(train.bank_account)\n",
    "plt.title('Target Distribution', fontdict={'size':14});"
   ],
   "execution_count": 12,
   "outputs": [
    {
     "data": {
      "text/plain": "<Figure size 432x288 with 1 Axes>",
      "image/png": "[encoded data removed]"
     },
     "metadata": {
      "needs_background": "light"
     },
     "output_type": "display_data"
    }
   ]
  },
  {
   "cell_type": "code",
   "metadata": {
    "colab": {
     "base_uri": "https://localhost:8080/",
     "height": 297
    },
    "id": "81wko0oKA-nz",
    "outputId": "4bf33afa-c9d4-40f1-88de-a4ee94e986df"
   },
   "source": [
    "sns.countplot(train.location_type)\n",
    "plt.title('Location Distribution', fontdict={'size':14});"
   ],
   "execution_count": 13,
   "outputs": [
    {
     "data": {
      "text/plain": "<Figure size 432x288 with 1 Axes>",
      "image/png": "[encoded data removed]"
     },
     "metadata": {
      "needs_background": "light"
     },
     "output_type": "display_data"
    }
   ]
  },
  {
   "cell_type": "code",
   "metadata": {
    "colab": {
     "base_uri": "https://localhost:8080/",
     "height": 297
    },
    "id": "6NdtJatTBFGi",
    "outputId": "e704ac7e-ce85-4818-a699-04695599ed6c"
   },
   "source": [
    "sns.countplot(train.cellphone_access)\n",
    "plt.title('Cellphone Access Distribution', fontdict={'size':14});"
   ],
   "execution_count": 14,
   "outputs": [
    {
     "data": {
      "text/plain": "<Figure size 432x288 with 1 Axes>",
      "image/png": "[encoded data removed]"
     },
     "metadata": {
      "needs_background": "light"
     },
     "output_type": "display_data"
    }
   ]
  },
  {
   "cell_type": "markdown",
   "metadata": {
    "id": "x56zYP9RBNhI"
   },
   "source": [
    "Here we see the overall distribution for the whole train set. Can you see if there are any differences due to country?"
   ]
  },
  {
   "cell_type": "markdown",
   "metadata": {
    "id": "7rZ9LClahj5F"
   },
   "source": [
    "### Number of unique values per categorical column"
   ]
  },
  {
   "cell_type": "code",
   "metadata": {
    "id": "rOd8usWw22yp",
    "colab": {
     "base_uri": "https://localhost:8080/"
    },
    "outputId": "03390245-04c6-4ed3-c2ba-d591aacb7c1a"
   },
   "source": [
    "# Check unique values for each categorical column\n",
    "cat_cols = ['country',\t'location_type',\t'cellphone_access',\t'gender_of_respondent',\t'relationship_with_head', 'marital_status', 'education_level',\t'job_type']\n",
    "for col in cat_cols:\n",
    "  print(col)\n",
    "  print(all_data[col].unique(), '\\n')"
   ],
   "execution_count": 15,
   "outputs": [
    {
     "name": "stdout",
     "output_type": "stream",
     "text": [
      "country\n",
      "['Kenya' 'Rwanda' 'Tanzania' 'Uganda'] \n",
      "\n",
      "location_type\n",
      "['Rural' 'Urban'] \n",
      "\n",
      "cellphone_access\n",
      "['Yes' 'No'] \n",
      "\n",
      "gender_of_respondent\n",
      "['Female' 'Male'] \n",
      "\n",
      "relationship_with_head\n",
      "['Spouse' 'Head of Household' 'Other relative' 'Child' 'Parent'\n",
      " 'Other non-relatives'] \n",
      "\n",
      "marital_status\n",
      "['Married/Living together' 'Widowed' 'Single/Never Married'\n",
      " 'Divorced/Seperated' 'Dont know'] \n",
      "\n",
      "education_level\n",
      "['Secondary education' 'No formal education'\n",
      " 'Vocational/Specialised training' 'Primary education'\n",
      " 'Tertiary education' 'Other/Dont know/RTA'] \n",
      "\n",
      "job_type\n",
      "['Self employed' 'Government Dependent' 'Formally employed Private'\n",
      " 'Informally employed' 'Formally employed Government'\n",
      " 'Farming and Fishing' 'Remittance Dependent' 'Other Income'\n",
      " 'Dont Know/Refuse to answer' 'No Income'] \n",
      "\n"
     ]
    }
   ]
  },
  {
   "cell_type": "markdown",
   "metadata": {
    "id": "Ppmv1kB5hvWs"
   },
   "source": [
    "### Feature Engineering\n"
   ]
  },
  {
   "cell_type": "markdown",
   "metadata": {
    "id": "XOnSMk9im9EC"
   },
   "source": [
    "#### Try different strategies of dealing with categorical variables\n",
    "Tips:\n",
    " - One hot encoding\n",
    " - Label encoding\n",
    " - Target encoding\n",
    " - Reduce the number of unique values..."
   ]
  },
  {
   "cell_type": "code",
   "metadata": {
    "id": "hzZXqfvE22y9",
    "colab": {
     "base_uri": "https://localhost:8080/",
     "height": 258
    },
    "outputId": "06376888-b7ed-4b64-8137-0ae1243421e0"
   },
   "source": [
    "# Encode categorical features\n",
    "all_data = pd.get_dummies(data = all_data, columns = cat_cols)\n",
    "all_data.head()"
   ],
   "execution_count": 16,
   "outputs": [
    {
     "data": {
      "text/plain": "   year    uniqueid  bank_account  household_size  age_of_respondent  \\\n0  2018  uniqueid_1           1.0               3                 24   \n1  2018  uniqueid_2           0.0               5                 70   \n2  2018  uniqueid_3           1.0               5                 26   \n3  2018  uniqueid_4           0.0               5                 34   \n4  2018  uniqueid_5           0.0               8                 26   \n\n   country_Kenya  country_Rwanda  country_Tanzania  country_Uganda  \\\n0              1               0                 0               0   \n1              1               0                 0               0   \n2              1               0                 0               0   \n3              1               0                 0               0   \n4              1               0                 0               0   \n\n   location_type_Rural  ...  job_type_Dont Know/Refuse to answer  \\\n0                    1  ...                                    0   \n1                    1  ...                                    0   \n2                    0  ...                                    0   \n3                    1  ...                                    0   \n4                    0  ...                                    0   \n\n   job_type_Farming and Fishing  job_type_Formally employed Government  \\\n0                             0                                      0   \n1                             0                                      0   \n2                             0                                      0   \n3                             0                                      0   \n4                             0                                      0   \n\n   job_type_Formally employed Private  job_type_Government Dependent  \\\n0                                   0                              0   \n1                                   0                              1   \n2                                   0                              0   \n3                                   1                              0   \n4                                   0                              0   \n\n   job_type_Informally employed  job_type_No Income  job_type_Other Income  \\\n0                             0                   0                      0   \n1                             0                   0                      0   \n2                             0                   0                      0   \n3                             0                   0                      0   \n4                             1                   0                      0   \n\n   job_type_Remittance Dependent  job_type_Self employed  \n0                              0                       1  \n1                              0                       0  \n2                              0                       1  \n3                              0                       0  \n4                              0                       0  \n\n[5 rows x 42 columns]",
      "text/html": "<div>\n<style scoped>\n    .dataframe tbody tr th:only-of-type {\n        vertical-align: middle;\n    }\n\n    .dataframe tbody tr th {\n        vertical-align: top;\n    }\n\n    .dataframe thead th {\n        text-align: right;\n    }\n</style>\n<table border=\"1\" class=\"dataframe\">\n  <thead>\n    <tr style=\"text-align: right;\">\n      <th></th>\n      <th>year</th>\n      <th>uniqueid</th>\n      <th>bank_account</th>\n      <th>household_size</th>\n      <th>age_of_respondent</th>\n      <th>country_Kenya</th>\n      <th>country_Rwanda</th>\n      <th>country_Tanzania</th>\n      <th>country_Uganda</th>\n      <th>location_type_Rural</th>\n      <th>...</th>\n      <th>job_type_Dont Know/Refuse to answer</th>\n      <th>job_type_Farming and Fishing</th>\n      <th>job_type_Formally employed Government</th>\n      <th>job_type_Formally employed Private</th>\n      <th>job_type_Government Dependent</th>\n      <th>job_type_Informally employed</th>\n      <th>job_type_No Income</th>\n      <th>job_type_Other Income</th>\n      <th>job_type_Remittance Dependent</th>\n      <th>job_type_Self employed</th>\n    </tr>\n  </thead>\n  <tbody>\n    <tr>\n      <th>0</th>\n      <td>2018</td>\n      <td>uniqueid_1</td>\n      <td>1.0</td>\n      <td>3</td>\n      <td>24</td>\n      <td>1</td>\n      <td>0</td>\n      <td>0</td>\n      <td>0</td>\n      <td>1</td>\n      <td>...</td>\n      <td>0</td>\n      <td>0</td>\n      <td>0</td>\n      <td>0</td>\n      <td>0</td>\n      <td>0</td>\n      <td>0</td>\n      <td>0</td>\n      <td>0</td>\n      <td>1</td>\n    </tr>\n    <tr>\n      <th>1</th>\n      <td>2018</td>\n      <td>uniqueid_2</td>\n      <td>0.0</td>\n      <td>5</td>\n      <td>70</td>\n      <td>1</td>\n      <td>0</td>\n      <td>0</td>\n      <td>0</td>\n      <td>1</td>\n      <td>...</td>\n      <td>0</td>\n      <td>0</td>\n      <td>0</td>\n      <td>0</td>\n      <td>1</td>\n      <td>0</td>\n      <td>0</td>\n      <td>0</td>\n      <td>0</td>\n      <td>0</td>\n    </tr>\n    <tr>\n      <th>2</th>\n      <td>2018</td>\n      <td>uniqueid_3</td>\n      <td>1.0</td>\n      <td>5</td>\n      <td>26</td>\n      <td>1</td>\n      <td>0</td>\n      <td>0</td>\n      <td>0</td>\n      <td>0</td>\n      <td>...</td>\n      <td>0</td>\n      <td>0</td>\n      <td>0</td>\n      <td>0</td>\n      <td>0</td>\n      <td>0</td>\n      <td>0</td>\n      <td>0</td>\n      <td>0</td>\n      <td>1</td>\n    </tr>\n    <tr>\n      <th>3</th>\n      <td>2018</td>\n      <td>uniqueid_4</td>\n      <td>0.0</td>\n      <td>5</td>\n      <td>34</td>\n      <td>1</td>\n      <td>0</td>\n      <td>0</td>\n      <td>0</td>\n      <td>1</td>\n      <td>...</td>\n      <td>0</td>\n      <td>0</td>\n      <td>0</td>\n      <td>1</td>\n      <td>0</td>\n      <td>0</td>\n      <td>0</td>\n      <td>0</td>\n      <td>0</td>\n      <td>0</td>\n    </tr>\n    <tr>\n      <th>4</th>\n      <td>2018</td>\n      <td>uniqueid_5</td>\n      <td>0.0</td>\n      <td>8</td>\n      <td>26</td>\n      <td>1</td>\n      <td>0</td>\n      <td>0</td>\n      <td>0</td>\n      <td>0</td>\n      <td>...</td>\n      <td>0</td>\n      <td>0</td>\n      <td>0</td>\n      <td>0</td>\n      <td>0</td>\n      <td>1</td>\n      <td>0</td>\n      <td>0</td>\n      <td>0</td>\n      <td>0</td>\n    </tr>\n  </tbody>\n</table>\n<p>5 rows × 42 columns</p>\n</div>"
     },
     "execution_count": 16,
     "metadata": {},
     "output_type": "execute_result"
    }
   ]
  },
  {
   "cell_type": "code",
   "metadata": {
    "colab": {
     "base_uri": "https://localhost:8080/"
    },
    "id": "BibprFWLdRAy",
    "outputId": "d86b2e2d-52ce-4689-ba33-563f0447bef4"
   },
   "source": [
    "# Separate train and test data from the combined dataframe\n",
    "train_df = all_data[:ntrain]\n",
    "test_df = all_data[ntrain:]\n",
    "\n",
    "# Check the shapes of the split dataset\n",
    "train_df.shape, test_df.shape"
   ],
   "execution_count": 17,
   "outputs": [
    {
     "data": {
      "text/plain": "((23524, 42), (10086, 42))"
     },
     "execution_count": 17,
     "metadata": {},
     "output_type": "execute_result"
    }
   ]
  },
  {
   "cell_type": "markdown",
   "metadata": {
    "id": "Rv9axjwXh2Ij"
   },
   "source": [
    "### Training and making predictions\n",
    "Tips:\n",
    "- Is lgbm the best model for this challenge?\n",
    "- Parameter tuning\n",
    " - Grid search, random search, perhaps bayesian search works better...\n",
    "\n"
   ]
  },
  {
   "cell_type": "code",
   "metadata": {
    "id": "w0EL1Fk222y-",
    "colab": {
     "base_uri": "https://localhost:8080/"
    },
    "outputId": "b31891c4-0d64-48ac-dd6d-ac80b1c4ecd1"
   },
   "source": [
    "# Select main columns to be used in training\n",
    "#main_cols = all_data.columns.difference(date_cols+['ID', 'bank_account'])\n",
    "main_cols = all_data.columns.difference(['uniqueid', 'bank_account'])\n",
    "X = train_df[main_cols]\n",
    "y = train_df['bank_account']\n",
    "\n",
    "# Split data into train and test sets\n",
    "X_train, X_test, y_train, y_test = train_test_split(X,y,test_size=0.3, random_state=42)\n",
    "\n",
    "# Train model\n",
    "model = LGBMClassifier()\n",
    "model.fit(X_train, y_train)\n",
    "\n",
    "# Make predictions\n",
    "y_pred = model.predict(X_test)\n",
    "\n",
    "# Check the accuracy score of the model\n",
    "accuracy_score(y_pred,y_test)"
   ],
   "execution_count": 18,
   "outputs": [
    {
     "data": {
      "text/plain": "0.8906205724001134"
     },
     "execution_count": 18,
     "metadata": {},
     "output_type": "execute_result"
    }
   ]
  },
  {
   "cell_type": "markdown",
   "metadata": {
    "id": "k_LHEtrph7Kk"
   },
   "source": [
    "### Making predictions of the test set and creating a submission file"
   ]
  },
  {
   "cell_type": "code",
   "metadata": {
    "colab": {
     "base_uri": "https://localhost:8080/",
     "height": 265
    },
    "id": "OP8EX6NZfSCP",
    "outputId": "7c289186-08b5-48f0-e92a-a1c32b711a09"
   },
   "source": [
    "# Make prediction on the test set\n",
    "test_df = test_df[main_cols]\n",
    "predictions = model.predict(test_df)\n",
    "\n",
    "# Create a submission file\n",
    "sub_file = ss.copy()\n",
    "sub_file.predictions = predictions\n",
    "\n",
    "# Check the distribution of your predictions\n",
    "sns.countplot(sub_file.predictions);"
   ],
   "execution_count": 19,
   "outputs": [
    {
     "data": {
      "text/plain": "<Figure size 432x288 with 1 Axes>",
      "image/png": "[encoded data removed]"
     },
     "metadata": {
      "needs_background": "light"
     },
     "output_type": "display_data"
    }
   ]
  },
  {
   "cell_type": "code",
   "metadata": {
    "id": "sm_jTS4022y-"
   },
   "source": [
    "# Create a csv file and upload to zindi \n",
    "sub_file.to_csv('Baseline.csv', index = False)"
   ],
   "execution_count": 20,
   "outputs": []
  },
  {
   "cell_type": "markdown",
   "metadata": {
    "id": "ttQqWBi722zE"
   },
   "source": [
    "###More Tips\n",
    "- Thorough EDA and domain knowledge sourcing\n",
    "- Re-group Categorical features \n",
    "- More Feature Engineering \n",
    "- Dataset balancing - oversampling, undersampling, SMOTE...\n",
    "- Ensembling of models \n",
    "- Cross-validation: Group folds, Stratified..."
   ]
  },
  {
   "cell_type": "markdown",
   "metadata": {
    "id": "uXftXbo622zF"
   },
   "source": [
    "# ******************* GOOD LUCK!!! ***************************"
   ]
  }
 ]
}